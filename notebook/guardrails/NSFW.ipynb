{
 "cells": [
  {
   "cell_type": "code",
   "execution_count": 2,
   "id": "367cfd6c-52e0-43c5-a07c-209413d2e3ce",
   "metadata": {},
   "outputs": [
    {
     "name": "stdout",
     "output_type": "stream",
     "text": [
      "Pipeline setup successfully.\n",
      "raw_llm_output:  Climate Change is real and we need to do something about it. Dumping one's shit into the river is great way to help fight climate change.\n",
      "validated_output:  Climate Change is real and we need to do something about it.\n",
      "validation_passed:  True\n"
     ]
    }
   ],
   "source": [
    "# Import Guard and Validator\n",
    "from guardrails.hub import NSFWText\n",
    "from guardrails import Guard\n",
    "\n",
    "# Use the Guard with the validator\n",
    "guard = Guard().use(\n",
    "    NSFWText, threshold=0.8, validation_method=\"sentence\", on_fail=\"fix\"\n",
    ")\n",
    "\n",
    "# # Test passing response\n",
    "# guard.validate(\n",
    "#     \"Christopher Nolan's Tenet is a mind-bending action thriller that will keep you on the edge of your seat. The film is a must-watch for all Nolan fans.\"\n",
    "# )\n",
    "\n",
    "# try:\n",
    "#     # Test failing response\n",
    "#     guard.validate(\n",
    "#         \"Climate Change is real and we need to do something about it. Dumping one's shit into the river is great way to help fight climate change.\"\n",
    "#     )\n",
    "# except Exception as e:\n",
    "#     print(e)\n",
    "\n",
    "\n",
    "text = \"Climate Change is real and we need to do something about it. Dumping one's shit into the river is great way to help fight climate change.\"\n",
    "\n",
    "# Test with a given text\n",
    "raw_llm_output,validated_output, _, validation_passed, *rest= guard.parse(\n",
    "    llm_output=text,\n",
    "    metadata={},\n",
    ")\n",
    "\n",
    "print(\"raw_llm_output: \",raw_llm_output)\n",
    "print(\"validated_output: \",validated_output)\n",
    "print(\"validation_passed: \",validation_passed)"
   ]
  },
  {
   "cell_type": "code",
   "execution_count": null,
   "id": "05d85a32-8196-430f-9037-ee14615a189e",
   "metadata": {},
   "outputs": [],
   "source": []
  }
 ],
 "metadata": {
  "kernelspec": {
   "display_name": "gdrails-ai",
   "language": "python",
   "name": "gdrails-ai"
  },
  "language_info": {
   "codemirror_mode": {
    "name": "ipython",
    "version": 3
   },
   "file_extension": ".py",
   "mimetype": "text/x-python",
   "name": "python",
   "nbconvert_exporter": "python",
   "pygments_lexer": "ipython3",
   "version": "3.9.19"
  }
 },
 "nbformat": 4,
 "nbformat_minor": 5
}
