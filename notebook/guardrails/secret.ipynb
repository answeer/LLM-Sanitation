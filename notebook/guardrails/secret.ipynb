{
 "cells": [
  {
   "cell_type": "code",
   "execution_count": 2,
   "id": "d9e757dc",
   "metadata": {},
   "outputs": [
    {
     "name": "stdout",
     "output_type": "stream",
     "text": [
      "raw_llm_output:  \n",
      "def hello():\n",
      "    user_id = \"1234\"\n",
      "    user_pwd = \"password1234\"\n",
      "    user_api_key = \"sk-xhdfgtest\"\n",
      "\n",
      "validated_output:  \n",
      "def hello():\n",
      "    user_id = \"1234\"\n",
      "    user_pwd = \"********\"\n",
      "    user_api_key = \"********\"\n",
      "\n",
      "validation_passed:  True\n"
     ]
    }
   ],
   "source": [
    "# Import Guard and Validator\n",
    "from guardrails import Guard\n",
    "from guardrails.hub import SecretsPresent\n",
    "\n",
    "# Setup Guard\n",
    "guard = Guard().use(SecretsPresent, on_fail=\"fix\")\n",
    "\n",
    "# response = guard.validate(\n",
    "#     \"\"\"\n",
    "#     def hello():\n",
    "#         name = \"James\"\n",
    "#         age = 25\n",
    "#         return {\"name\": name, \"age\": age}\n",
    "#     \"\"\"\n",
    "# )  # Validator passes\n",
    "\n",
    "# try:\n",
    "#     response = guard.validate(\n",
    "#         \"\"\"\n",
    "#         def hello():\n",
    "#             user_id = \"1234\"\n",
    "#             user_pwd = \"password1234\"\n",
    "#             user_api_key = \"sk-xhdfgtest\"\n",
    "#         \"\"\"\n",
    "#     )  # Validator fails\n",
    "# except Exception as e:\n",
    "#     print(e)\n",
    "\n",
    "text = \"\"\"\n",
    "def hello():\n",
    "    user_id = \"1234\"\n",
    "    user_pwd = \"password1234\"\n",
    "    user_api_key = \"sk-xhdfgtest\"\n",
    "\"\"\"\n",
    "# Test with a given text\n",
    "raw_llm_output,validated_output, _, validation_passed, *rest= guard.parse(\n",
    "    llm_output=text,\n",
    "    metadata={},\n",
    ")\n",
    "\n",
    "print(\"raw_llm_output: \",raw_llm_output)\n",
    "print(\"validated_output: \",validated_output)\n",
    "print(\"validation_passed: \",validation_passed)"
   ]
  },
  {
   "cell_type": "code",
   "execution_count": null,
   "id": "766f28b3-efae-4d35-bde4-bf15578421ec",
   "metadata": {},
   "outputs": [],
   "source": []
  }
 ],
 "metadata": {
  "kernelspec": {
   "display_name": "gdrails-ai",
   "language": "python",
   "name": "gdrails-ai"
  },
  "language_info": {
   "codemirror_mode": {
    "name": "ipython",
    "version": 3
   },
   "file_extension": ".py",
   "mimetype": "text/x-python",
   "name": "python",
   "nbconvert_exporter": "python",
   "pygments_lexer": "ipython3",
   "version": "3.9.19"
  }
 },
 "nbformat": 4,
 "nbformat_minor": 5
}
