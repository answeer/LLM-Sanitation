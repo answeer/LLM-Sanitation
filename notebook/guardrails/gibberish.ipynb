{
 "cells": [
  {
   "cell_type": "code",
   "execution_count": 1,
   "id": "22fc29a0",
   "metadata": {},
   "outputs": [
    {
     "name": "stdout",
     "output_type": "stream",
     "text": [
      "Pipeline setup successfully.\n",
      "ValidationOutcome(\n",
      "    raw_llm_output='\\nFloppyland love great coffee okay. Fox fox fox. Move to New York City.',\n",
      "    validated_output='Move to New York City.',\n",
      "    reask=None,\n",
      "    validation_passed=True,\n",
      "    error=None\n",
      ")\n"
     ]
    }
   ],
   "source": [
    "# Import Guard and Validator\n",
    "from guardrails.hub import GibberishText\n",
    "from guardrails import Guard\n",
    "\n",
    "# Use the Guard with the validator\n",
    "guard = Guard().use(\n",
    "    GibberishText, threshold=0.5, validation_method=\"sentence\", on_fail=\"fix\"\n",
    ")\n",
    "\n",
    "# Test passing response\n",
    "guard.validate(\n",
    "    \"Azure is a cloud computing service created by Microsoft. It's a significant competitor to AWS.\"\n",
    ")\n",
    "\n",
    "try:\n",
    "    # Test failing response\n",
    "    guard.validate(\n",
    "        \"Floppyland love great coffee okay. Fox fox fox. Move to New York City.\"\n",
    "    )\n",
    "except Exception as e:\n",
    "    print(e)\n",
    "\n",
    "\n",
    "text = \"\"\"\n",
    "Floppyland love great coffee okay. Fox fox fox. Move to New York City.\\\n",
    "\"\"\"\n",
    "output = guard.parse(\n",
    "    llm_output=text,\n",
    "    metadata={},\n",
    ")\n",
    "\n",
    "print(output)"
   ]
  },
  {
   "cell_type": "code",
   "execution_count": null,
   "id": "7b64b162-b123-4ae0-a4e6-af0ae1763f98",
   "metadata": {},
   "outputs": [],
   "source": []
  }
 ],
 "metadata": {
  "kernelspec": {
   "display_name": "gdrails-ai",
   "language": "python",
   "name": "gdrails-ai"
  },
  "language_info": {
   "codemirror_mode": {
    "name": "ipython",
    "version": 3
   },
   "file_extension": ".py",
   "mimetype": "text/x-python",
   "name": "python",
   "nbconvert_exporter": "python",
   "pygments_lexer": "ipython3",
   "version": "3.9.19"
  }
 },
 "nbformat": 4,
 "nbformat_minor": 5
}
