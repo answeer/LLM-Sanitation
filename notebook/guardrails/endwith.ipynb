{
 "cells": [
  {
   "cell_type": "code",
   "execution_count": null,
   "id": "0994a7e3",
   "metadata": {},
   "outputs": [],
   "source": [
    "# Import Guard and Validator\n",
    "from guardrails import Guard\n",
    "from guardrails.hub import EndsWith\n",
    "\n",
    "# Setup Guard\n",
    "guard = Guard().use(EndsWith, end=\"a\", on_fail=\"exception\")\n",
    "\n",
    "response = guard.validate(\"Llama\")  # Validator passes\n",
    "\n",
    "try:\n",
    "    response = guard.validate(\"Mistral\")  # Validator fails\n",
    "except Exception as e:\n",
    "    print(e)\n"
   ]
  }
 ],
 "metadata": {},
 "nbformat": 4,
 "nbformat_minor": 5
}
