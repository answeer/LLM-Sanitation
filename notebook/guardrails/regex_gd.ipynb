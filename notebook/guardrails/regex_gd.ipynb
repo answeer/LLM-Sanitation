{
 "cells": [
  {
   "cell_type": "code",
   "execution_count": 2,
   "id": "19d1f814",
   "metadata": {},
   "outputs": [
    {
     "name": "stdout",
     "output_type": "stream",
     "text": [
      "raw_llm_output:  MetaAI's Llama2 is the latest in their open-source LLM series. It is a powerful language model.\n",
      "validated_output:  Openlk&X/^?^6GUWKm@poCgT>h\\E]4?[{eEJ74\"z6mUo=uJ@}8?BP`B{e%\t9>h|{*dy5R&F\f",
      "3DMbIFBKIt9XpCr&N3f0nx\n",
      "validation_passed:  True\n"
     ]
    }
   ],
   "source": [
    "# Import Guard and Validator\n",
    "from guardrails.hub import RegexMatch\n",
    "from guardrails import Guard\n",
    "\n",
    "# Use the Guard with the validator\n",
    "guard = Guard().use(RegexMatch, regex=\"Open.*\", on_fail=\"fix\")\n",
    "\n",
    "# # Test passing response\n",
    "# guard.validate(\n",
    "#     \"OpenAI's GPT3.5 model is the latest in the GPT series. It is a powerful language model.\"\n",
    "# )\n",
    "\n",
    "# try:\n",
    "#     # Test failing response\n",
    "#     guard.validate(\n",
    "#         \"MetaAI's Llama2 is the latest in their open-source LLM series. It is a powerful language model.\"\n",
    "#     )\n",
    "# except Exception as e:\n",
    "#     print(e)\n",
    "\n",
    "# Parse the text\n",
    "text = \"MetaAI's Llama2 is the latest in their open-source LLM series. It is a powerful language model.\"\n",
    "raw_llm_output,validated_output, _, validation_passed, *rest= guard.parse(\n",
    "    llm_output=text,\n",
    "    metadata={},\n",
    ")\n",
    "\n",
    "print(\"raw_llm_output: \",raw_llm_output)\n",
    "print(\"validated_output: \",validated_output)\n",
    "print(\"validation_passed: \",validation_passed)\n"
   ]
  },
  {
   "cell_type": "code",
   "execution_count": null,
   "id": "78dec219-b334-4ac5-a905-d6346bf82165",
   "metadata": {},
   "outputs": [],
   "source": []
  }
 ],
 "metadata": {
  "kernelspec": {
   "display_name": "gdrails-ai",
   "language": "python",
   "name": "gdrails-ai"
  },
  "language_info": {
   "codemirror_mode": {
    "name": "ipython",
    "version": 3
   },
   "file_extension": ".py",
   "mimetype": "text/x-python",
   "name": "python",
   "nbconvert_exporter": "python",
   "pygments_lexer": "ipython3",
   "version": "3.9.19"
  }
 },
 "nbformat": 4,
 "nbformat_minor": 5
}
