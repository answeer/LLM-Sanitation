{
 "cells": [
  {
   "cell_type": "code",
   "execution_count": 1,
   "id": "19d1f814",
   "metadata": {},
   "outputs": [
    {
     "name": "stdout",
     "output_type": "stream",
     "text": [
      "ValidationOutcome(\n",
      "    raw_llm_output=\"MetaAI's Llama2 is the latest in their open-source LLM series. It is a powerful language model.\",\n",
      "    validated_output='Open;:1q}j3$:pBP\\r6\\t+-*R /5}w@+NE}.j\\x0c^$7=I9jK\\thojb?(S4z P6',\n",
      "    reask=None,\n",
      "    validation_passed=True,\n",
      "    error=None\n",
      ")\n"
     ]
    }
   ],
   "source": [
    "# Import Guard and Validator\n",
    "from guardrails.hub import RegexMatch\n",
    "from guardrails import Guard\n",
    "\n",
    "# Use the Guard with the validator\n",
    "guard = Guard().use(RegexMatch, regex=\"Open.*\", on_fail=\"fix\")\n",
    "\n",
    "# # Test passing response\n",
    "# guard.validate(\n",
    "#     \"OpenAI's GPT3.5 model is the latest in the GPT series. It is a powerful language model.\"\n",
    "# )\n",
    "\n",
    "# try:\n",
    "#     # Test failing response\n",
    "#     guard.validate(\n",
    "#         \"MetaAI's Llama2 is the latest in their open-source LLM series. It is a powerful language model.\"\n",
    "#     )\n",
    "# except Exception as e:\n",
    "#     print(e)\n",
    "\n",
    "# Parse the text\n",
    "text = \"MetaAI's Llama2 is the latest in their open-source LLM series. It is a powerful language model.\"\n",
    "output = guard.parse(\n",
    "    llm_output=text,\n",
    ")\n",
    "\n",
    "# Print the output\n",
    "print(output)\n"
   ]
  }
 ],
 "metadata": {
  "kernelspec": {
   "display_name": "gdrails-ai",
   "language": "python",
   "name": "gdrails-ai"
  },
  "language_info": {
   "codemirror_mode": {
    "name": "ipython",
    "version": 3
   },
   "file_extension": ".py",
   "mimetype": "text/x-python",
   "name": "python",
   "nbconvert_exporter": "python",
   "pygments_lexer": "ipython3",
   "version": "3.9.19"
  }
 },
 "nbformat": 4,
 "nbformat_minor": 5
}
