{
 "cells": [
  {
   "cell_type": "code",
   "execution_count": null,
   "id": "6e33c87c",
   "metadata": {},
   "outputs": [],
   "source": [
    "# Import Guard and Validator\n",
    "from guardrails.hub import ValidPython\n",
    "from guardrails import Guard\n",
    "\n",
    "# Setup Guard\n",
    "guard = Guard().use(ValidPython, on_fail=\"exception\")\n",
    "\n",
    "# Correct python\n",
    "correct_python = \"\"\"\n",
    "import os\n",
    "\n",
    "def foo():\n",
    "    print(f\"Current path is: {os.getcwd()}\")\n",
    "\n",
    "foo()\n",
    "\"\"\"\n",
    "\n",
    "incorrect_python = \"\"\"\n",
    "def add(x, y):\n",
    "    return x + y\n",
    "\n",
    "   result == add(3, 4)\n",
    "print(result)\n",
    "\"\"\"\n",
    "\n",
    "guard.validate(correct_python)  # Validator passes\n",
    "try:\n",
    "    guard.validate(incorrect_python)  # Validator fails\n",
    "except Exception as e:\n",
    "    print(e)"
   ]
  }
 ],
 "metadata": {},
 "nbformat": 4,
 "nbformat_minor": 5
}
