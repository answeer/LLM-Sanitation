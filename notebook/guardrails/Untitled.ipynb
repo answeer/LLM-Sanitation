{
 "cells": [
  {
   "cell_type": "code",
   "execution_count": 1,
   "id": "deba305a-e2a9-4cca-90a8-dca248aef650",
   "metadata": {},
   "outputs": [
    {
     "name": "stdout",
     "output_type": "stream",
     "text": [
      "Validation failed for field with errors: The generated text contains a drug name.\n"
     ]
    }
   ],
   "source": [
    "# Import Guard and Validator\n",
    "from guardrails import Guard\n",
    "from guardrails.hub import MentionsDrugs\n",
    "\n",
    "# Setup the Guard with the validator\n",
    "guard = Guard().use(MentionsDrugs, on_fail=\"exception\")\n",
    "\n",
    "# Test passing response\n",
    "guard.validate(\"You should take this medicine every day after breakfast.\")\n",
    "\n",
    "# Test failing response\n",
    "try:\n",
    "    response = guard.validate(\n",
    "        \"Take one dose of aspirin each night before going to sleep.\"\n",
    "    )\n",
    "except Exception as e:\n",
    "    print(e)\n"
   ]
  },
  {
   "cell_type": "code",
   "execution_count": null,
   "id": "607559fa-87e3-4d96-a808-559f240597bc",
   "metadata": {},
   "outputs": [],
   "source": []
  }
 ],
 "metadata": {
  "kernelspec": {
   "display_name": "gdrails-ai",
   "language": "python",
   "name": "gdrails-ai"
  },
  "language_info": {
   "codemirror_mode": {
    "name": "ipython",
    "version": 3
   },
   "file_extension": ".py",
   "mimetype": "text/x-python",
   "name": "python",
   "nbconvert_exporter": "python",
   "pygments_lexer": "ipython3",
   "version": "3.9.19"
  }
 },
 "nbformat": 4,
 "nbformat_minor": 5
}
