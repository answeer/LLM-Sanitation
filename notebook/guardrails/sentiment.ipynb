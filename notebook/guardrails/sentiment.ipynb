{
 "cells": [
  {
   "cell_type": "code",
   "execution_count": 1,
   "id": "409237a1-473d-43c7-acbe-b542c533a063",
   "metadata": {},
   "outputs": [
    {
     "name": "stdout",
     "output_type": "stream",
     "text": [
      "Pipeline setup successfully.\n",
      "Predicted label: Positive, Confidence: 1.0\n",
      "Predicted label: Positive, Confidence: 1.0\n",
      "Predicted label: Negative, Confidence: 0.9999992847442627\n",
      "Predicted label: Negative, Confidence: 0.9999992847442627\n",
      "Validation failed for field with errors: The generated text didn't have tone: positive.\n"
     ]
    }
   ],
   "source": [
    "# Import Guard and Validator\n",
    "from guardrails.hub import FinancialTone\n",
    "from guardrails import Guard\n",
    "\n",
    "# Use the Guard with the validator\n",
    "guard = Guard().use(FinancialTone, on_fail=\"exception\")\n",
    "\n",
    "# Test passing response\n",
    "guard.validate(\n",
    "    \"Growth is strong and we have plenty of liquidity.\",\n",
    "    metadata={\"financial_tone\": \"positive\"}\n",
    ")\n",
    "\n",
    "try:\n",
    "    # Test failing response\n",
    "    guard.validate(\n",
    "        \"There are doubts about our finances, and we are struggling to stay afloat.\",\n",
    "        metadata={\"financial_tone\": \"positive\"}\n",
    "    )\n",
    "except Exception as e:\n",
    "    print(e)"
   ]
  },
  {
   "cell_type": "code",
   "execution_count": null,
   "id": "754813c5-5db0-455b-a33a-88854f12aa43",
   "metadata": {},
   "outputs": [],
   "source": []
  }
 ],
 "metadata": {
  "kernelspec": {
   "display_name": "gdrails-ai",
   "language": "python",
   "name": "gdrails-ai"
  },
  "language_info": {
   "codemirror_mode": {
    "name": "ipython",
    "version": 3
   },
   "file_extension": ".py",
   "mimetype": "text/x-python",
   "name": "python",
   "nbconvert_exporter": "python",
   "pygments_lexer": "ipython3",
   "version": "3.9.19"
  }
 },
 "nbformat": 4,
 "nbformat_minor": 5
}
