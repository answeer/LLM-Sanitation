{
 "cells": [
  {
   "cell_type": "code",
   "execution_count": 1,
   "id": "e8c8a294-88a7-48d9-b6ad-7ed19db18330",
   "metadata": {},
   "outputs": [
    {
     "name": "stdout",
     "output_type": "stream",
     "text": [
      "Validation failed for field with errors: URL https://www.guardrailsai.co could not be reached\n"
     ]
    }
   ],
   "source": [
    "# Import Guard and Validator\n",
    "from guardrails import Guard\n",
    "from guardrails.hub import EndpointIsReachable\n",
    "\n",
    "\n",
    "# Setup Guard\n",
    "guard = Guard().use(EndpointIsReachable, on_fail=\"exception\")\n",
    "\n",
    "response = guard.validate(\"https://www.guardrailsai.com/\")  # Validator passes\n",
    "\n",
    "try:\n",
    "    response = guard.validate(\"https://www.guardrailsai.co\")  # Validator fails\n",
    "except Exception as e:\n",
    "    print(e)"
   ]
  },
  {
   "cell_type": "code",
   "execution_count": null,
   "id": "5d525cbe-4b9b-4b49-b26b-28e427dc4b89",
   "metadata": {},
   "outputs": [],
   "source": []
  }
 ],
 "metadata": {
  "kernelspec": {
   "display_name": "gdrails-ai",
   "language": "python",
   "name": "gdrails-ai"
  },
  "language_info": {
   "codemirror_mode": {
    "name": "ipython",
    "version": 3
   },
   "file_extension": ".py",
   "mimetype": "text/x-python",
   "name": "python",
   "nbconvert_exporter": "python",
   "pygments_lexer": "ipython3",
   "version": "3.9.19"
  }
 },
 "nbformat": 4,
 "nbformat_minor": 5
}
