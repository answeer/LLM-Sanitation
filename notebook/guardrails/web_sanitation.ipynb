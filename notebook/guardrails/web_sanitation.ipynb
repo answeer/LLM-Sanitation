{
 "cells": [
  {
   "cell_type": "code",
   "execution_count": null,
   "id": "4a48ab34",
   "metadata": {},
   "outputs": [],
   "source": [
    "# Import Guard and Validator\n",
    "from guardrails import Guard\n",
    "from guardrails.hub import WebSanitization\n",
    "\n",
    "# Use the Guard with the validator\n",
    "guard = Guard().use(WebSanitization, on_fail=\"exception\")\n",
    "\n",
    "# Test passing response\n",
    "guard.validate(\n",
    "    \"\"\"MetaAI's Llama2 is the latest in their open-source LLM series. \n",
    "    It is a powerful language model.\"\"\"\n",
    ")\n",
    "\n",
    "try:\n",
    "    # Test failing response\n",
    "    guard.validate(\n",
    "        \"\"\"MetaAI's Llama2 is the latest in their open-source LLM series. \n",
    "        It is a powerful language model. <script>alert('XSS')</script>\"\"\"\n",
    "    )\n",
    "except Exception as e:\n",
    "    print(e)\n"
   ]
  }
 ],
 "metadata": {},
 "nbformat": 4,
 "nbformat_minor": 5
}
