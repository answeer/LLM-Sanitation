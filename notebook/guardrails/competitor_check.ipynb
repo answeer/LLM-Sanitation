{
 "cells": [
  {
   "cell_type": "code",
   "execution_count": 2,
   "id": "2ff307c7",
   "metadata": {},
   "outputs": [
    {
     "data": {
      "text/plain": [
       "ValidationOutcome(raw_llm_output='In the dynamic realm of finance, several prominent entities have emerged as key players,leaving an indelible mark on the industry. Acorns, a fintech innovator, has revolutionized saving and investing with its user-friendly app. Citigroup, a multinational investment bank, stands as a pillar of financial expertise, offering a wide array of services to clients worldwide. HSBC, with its extensive global network, has become a powerhouse in the banking sector, catering to the needs of millions across different countries. JP Morgan, a venerable institution with a rich history, has established itself as a comprehensive financial powerhouse, providing a diverse range of services from investment banking to asset management. Santander, a Spanish multinational bank, has earned a reputation for its responsible banking practices and customer-centric approach, serving as a trusted financial partner to individuals and businesses alike. Together, Acorns, Citi, HSBC, JP Morgan, and Santander have redefined the financial landscape, shaping the way we save, invest, and manage our money on a global scale.', validated_output='In the dynamic realm of finance, several prominent entities have emerged as key players,leaving an indelible mark on the industry. HSBC, with its extensive global network, has become a powerhouse in the banking sector, catering to the needs of millions across different countries. Santander, a Spanish multinational bank, has earned a reputation for its responsible banking practices and customer-centric approach, serving as a trusted financial partner to individuals and businesses alike.', reask=None, validation_passed=True, error=None)"
      ]
     },
     "execution_count": 2,
     "metadata": {},
     "output_type": "execute_result"
    }
   ],
   "source": [
    "# Import Guard and Validator\n",
    "from guardrails import Guard\n",
    "from guardrails.hub import CompetitorCheck\n",
    "\n",
    "\n",
    "# Generate competitors list\n",
    "competitors_list = [\n",
    "    \"Acorns\",\n",
    "    \"Citigroup\",\n",
    "    \"Citi\",\n",
    "    \"Fidelity Investments\",\n",
    "    \"Fidelity\",\n",
    "    \"JP Morgan Chase and company\",\n",
    "    \"JP Morgan\",\n",
    "    \"JP Morgan Chase\",\n",
    "    \"JPMorgan Chase\",\n",
    "    \"Chase\" \"M1 Finance\",\n",
    "    \"Stash Financial Incorporated\",\n",
    "    \"Stash\",\n",
    "    \"Tastytrade Incorporated\",\n",
    "    \"Tastytrade\",\n",
    "    \"ZacksTrade\",\n",
    "    \"Zacks Trade\",\n",
    "]\n",
    "\n",
    "# Define some text to test the validator\n",
    "text = \"\"\"\\\n",
    "In the dynamic realm of finance, several prominent entities have emerged as key players,\\\n",
    "leaving an indelible mark on the industry. Acorns, a fintech innovator, has revolutionized saving \\\n",
    "and investing with its user-friendly app. Citigroup, a multinational investment bank, stands as a \\\n",
    "pillar of financial expertise, offering a wide array of services to clients worldwide. HSBC, with \\\n",
    "its extensive global network, has become a powerhouse in the banking sector, catering to the needs \\\n",
    "of millions across different countries. JP Morgan, a venerable institution with a rich history, has \\\n",
    "established itself as a comprehensive financial powerhouse, providing a diverse range of services \\\n",
    "from investment banking to asset management. Santander, a Spanish multinational bank, has earned a \\\n",
    "reputation for its responsible banking practices and customer-centric approach, serving as a trusted \\\n",
    "financial partner to individuals and businesses alike. Together, Acorns, Citi, HSBC, JP Morgan, and \\\n",
    "Santander have redefined the financial landscape, shaping the way we save, invest, and manage our \\\n",
    "money on a global scale.\\\n",
    "\"\"\"\n",
    "\n",
    "# Create the Guard with the CompetitorCheck Validator\n",
    "guard = Guard.from_string(\n",
    "    validators=[CompetitorCheck(competitors=competitors_list, on_fail=\"fix\")],\n",
    "    description=\"testmeout\",\n",
    ")\n",
    "\n",
    "# Test with a given text\n",
    "output = guard.parse(\n",
    "    llm_output=text,\n",
    "    metadata={},\n",
    ")\n",
    "\n",
    "print(output)\n"
   ]
  }
 ],
 "metadata": {
  "kernelspec": {
   "display_name": "gdrails-ai",
   "language": "python",
   "name": "gdrails-ai"
  },
  "language_info": {
   "codemirror_mode": {
    "name": "ipython",
    "version": 3
   },
   "file_extension": ".py",
   "mimetype": "text/x-python",
   "name": "python",
   "nbconvert_exporter": "python",
   "pygments_lexer": "ipython3",
   "version": "3.9.19"
  }
 },
 "nbformat": 4,
 "nbformat_minor": 5
}
