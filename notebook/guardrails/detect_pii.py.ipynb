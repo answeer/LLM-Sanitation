{
 "cells": [
  {
   "cell_type": "code",
   "execution_count": 2,
   "id": "c8c9ad7d",
   "metadata": {},
   "outputs": [
    {
     "name": "stderr",
     "output_type": "stream",
     "text": [
      "WARNING:py.warnings:/Users/lijing/opt/anaconda3/envs/gdrails-ai/lib/python3.9/site-packages/guardrails/validator_base.py:397: FutureWarning: Accessing `PIIFilter` using\n",
      "`from guardrails.validators import PIIFilter` is deprecated and\n",
      "support will be removed after version 0.5.x. Please switch to the Guardrails Hub syntax:\n",
      "`from guardrails.hub import DetectPII` for future updates and support.\n",
      "For additional details, please visit: https://hub.guardrailsai.com/validator/guardrails/detect_pii.\n",
      "\n",
      "  warn(\n",
      "\n",
      "WARNING:presidio-analyzer:configuration file /Users/lijing/opt/anaconda3/envs/gdrails-ai/lib/python3.9/site-packages/conf/default.yaml not found.  Using default config: {'nlp_engine_name': 'spacy', 'models': [{'lang_code': 'en', 'model_name': 'en_core_web_lg'}]}.\n",
      "WARNING:presidio-analyzer:configuration file is missing 'ner_model_configuration'. Using default\n",
      "WARNING:presidio-analyzer:model_to_presidio_entity_mapping is missing from configuration, using default\n",
      "WARNING:presidio-analyzer:low_score_entity_names is missing from configuration, using default\n",
      "WARNING:presidio-analyzer:labels_to_ignore is missing from configuration, using default\n",
      "WARNING:presidio-analyzer:configuration file /Users/lijing/opt/anaconda3/envs/gdrails-ai/lib/python3.9/site-packages/conf/default.yaml not found.  Using default config: {'nlp_engine_name': 'spacy', 'models': [{'lang_code': 'en', 'model_name': 'en_core_web_lg'}]}.\n",
      "WARNING:presidio-analyzer:configuration file is missing 'ner_model_configuration'. Using default\n",
      "WARNING:presidio-analyzer:model_to_presidio_entity_mapping is missing from configuration, using default\n",
      "WARNING:presidio-analyzer:low_score_entity_names is missing from configuration, using default\n",
      "WARNING:presidio-analyzer:labels_to_ignore is missing from configuration, using default\n",
      "WARNING:presidio-analyzer:Entity DOMAIN_NAME doesn't have the corresponding recognizer in language : en\n",
      "WARNING:presidio-analyzer:Entity DOMAIN_NAME doesn't have the corresponding recognizer in language : en\n"
     ]
    },
    {
     "data": {
      "text/html": [
       "<pre style=\"white-space:pre;overflow-x:auto;line-height:normal;font-family:Menlo,'DejaVu Sans Mono',consolas,'Courier New',monospace\"><span style=\"color: #800080; text-decoration-color: #800080; font-weight: bold\">ValidationOutcome</span><span style=\"font-weight: bold\">(</span>\n",
       "    <span style=\"color: #808000; text-decoration-color: #808000\">raw_llm_output</span>=<span style=\"color: #008000; text-decoration-color: #008000\">'My email address is demo@lol.com, and my phone number is 1234567890'</span>,\n",
       "    <span style=\"color: #808000; text-decoration-color: #808000\">validated_output</span>=<span style=\"color: #008000; text-decoration-color: #008000\">'My email address is &lt;EMAIL_ADDRESS&gt;, and my phone number is &lt;PHONE_NUMBER&gt;'</span>,\n",
       "    <span style=\"color: #808000; text-decoration-color: #808000\">reask</span>=<span style=\"color: #800080; text-decoration-color: #800080; font-style: italic\">None</span>,\n",
       "    <span style=\"color: #808000; text-decoration-color: #808000\">validation_passed</span>=<span style=\"color: #00ff00; text-decoration-color: #00ff00; font-style: italic\">True</span>,\n",
       "    <span style=\"color: #808000; text-decoration-color: #808000\">error</span>=<span style=\"color: #800080; text-decoration-color: #800080; font-style: italic\">None</span>\n",
       "<span style=\"font-weight: bold\">)</span>\n",
       "</pre>\n"
      ],
      "text/plain": [
       "\u001b[1;35mValidationOutcome\u001b[0m\u001b[1m(\u001b[0m\n",
       "    \u001b[33mraw_llm_output\u001b[0m=\u001b[32m'My email address is demo@lol.com, and my phone number is 1234567890'\u001b[0m,\n",
       "    \u001b[33mvalidated_output\u001b[0m=\u001b[32m'My email address is \u001b[0m\u001b[32m<\u001b[0m\u001b[32mEMAIL_ADDRESS\u001b[0m\u001b[32m>, and my phone number is <PHONE_NUMBER\u001b[0m\u001b[32m>\u001b[0m\u001b[32m'\u001b[0m,\n",
       "    \u001b[33mreask\u001b[0m=\u001b[3;35mNone\u001b[0m,\n",
       "    \u001b[33mvalidation_passed\u001b[0m=\u001b[3;92mTrue\u001b[0m,\n",
       "    \u001b[33merror\u001b[0m=\u001b[3;35mNone\u001b[0m\n",
       "\u001b[1m)\u001b[0m\n"
      ]
     },
     "metadata": {},
     "output_type": "display_data"
    }
   ],
   "source": [
    "# Import the guardrails package\n",
    "import guardrails as gd\n",
    "from guardrails.validators import PIIFilter\n",
    "from rich import print\n",
    "\n",
    "# Create Guard object with this validator\n",
    "# One can specify either pre-defined set of PII or SPI (Sensitive Personal Information) entities by passing in the `pii` or `spi` argument respectively.\n",
    "# It can be passed either durring intialization or later through the metadata argument in parse method.\n",
    "\n",
    "# One can also pass in a list of entities supported by Presidio to the `pii_entities` argument.\n",
    "guard = gd.Guard.from_string(\n",
    "    validators=[PIIFilter(pii_entities=\"pii\", on_fail=\"fix\")],\n",
    "    description=\"testmeout\",\n",
    ")\n",
    "\n",
    "# Parse the text\n",
    "text = \"My email address is demo@lol.com, and my phone number is 1234567890\"\n",
    "output = guard.parse(\n",
    "    llm_output=text,\n",
    ")\n",
    "\n",
    "# Print the output\n",
    "print(output)"
   ]
  },
  {
   "cell_type": "code",
   "execution_count": null,
   "id": "1fd0e306-8793-464c-93f0-5c5c324ab5ac",
   "metadata": {},
   "outputs": [],
   "source": []
  }
 ],
 "metadata": {
  "kernelspec": {
   "display_name": "gdrails-ai",
   "language": "python",
   "name": "gdrails-ai"
  },
  "language_info": {
   "codemirror_mode": {
    "name": "ipython",
    "version": 3
   },
   "file_extension": ".py",
   "mimetype": "text/x-python",
   "name": "python",
   "nbconvert_exporter": "python",
   "pygments_lexer": "ipython3",
   "version": "3.9.19"
  }
 },
 "nbformat": 4,
 "nbformat_minor": 5
}
