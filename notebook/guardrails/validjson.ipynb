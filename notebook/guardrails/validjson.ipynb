{
 "cells": [
  {
   "cell_type": "code",
   "execution_count": null,
   "id": "2172db95",
   "metadata": {},
   "outputs": [],
   "source": [
    "# Import Guard and Validator\n",
    "from guardrails.hub import ValidJson\n",
    "from guardrails import Guard\n",
    "\n",
    "# Setup Guard\n",
    "guard = Guard().use(ValidJson, on_fail=\"exception\")\n",
    "\n",
    "guard.validate('{ \"value\": \"a test value\" }')  # Validator passes\n",
    "\n",
    "try:\n",
    "    guard.validate(\n",
    "        '{ \"value\": \"a test value\", }'\n",
    "    )  # Validator fails; note the trailing comma\n",
    "except Exception as e:\n",
    "    print(e)\n"
   ]
  }
 ],
 "metadata": {},
 "nbformat": 4,
 "nbformat_minor": 5
}
