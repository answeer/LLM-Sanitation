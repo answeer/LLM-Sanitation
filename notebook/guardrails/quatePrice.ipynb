{
 "cells": [
  {
   "cell_type": "code",
   "execution_count": null,
   "id": "b076e6d4",
   "metadata": {},
   "outputs": [],
   "source": [
    "from guardrails import Guard\n",
    "from guardrails.hub import QuotesPrice\n",
    "\n",
    "# Setup the Guard with the validator\n",
    "guard = Guard().use(QuotesPrice, on_fail=\"exception\")\n",
    "\n",
    "# Test passing responses\n",
    "guard.validate(\n",
    "    \"The new Airpods Max are available at a crazy discount!\"\n",
    ")  # No price present\n",
    "\n",
    "response = guard.validate(\n",
    "    \"The new Airpods Max are available at a crazy discount! It's only $9.99!\",\n",
    "    metadata={\"currency\": \"GBP\"},\n",
    ")  # Price present in USD, but expected is GBP\n",
    "\n",
    "# Test failing response\n",
    "try:\n",
    "    response = guard.validate(\n",
    "        \"The new Airpods Max are available at a crazy discount! It's only $9.99!\",\n",
    "        metadata={\"currency\": \"USD\"},\n",
    "    )  # Price present in USD and expected is also USD\n",
    "except Exception as e:\n",
    "    print(e)\n"
   ]
  }
 ],
 "metadata": {},
 "nbformat": 4,
 "nbformat_minor": 5
}
