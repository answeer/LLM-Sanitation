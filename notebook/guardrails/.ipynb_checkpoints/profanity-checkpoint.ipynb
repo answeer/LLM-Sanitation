{
 "cells": [
  {
   "cell_type": "code",
   "execution_count": 3,
   "id": "1ed6fc2a-a215-4074-846c-36362645933e",
   "metadata": {},
   "outputs": [
    {
     "name": "stdout",
     "output_type": "stream",
     "text": [
      "raw_llm_output:  He is such a dickhead and a fucking idiot.\n",
      "validated_output:  \n",
      "validation_passed:  True\n"
     ]
    }
   ],
   "source": [
    "# Import Guard and Validator\n",
    "from guardrails.hub import ProfanityFree\n",
    "from guardrails import Guard\n",
    "\n",
    "# Use the Guard with the validator\n",
    "guard = Guard().use(ProfanityFree, on_fail=\"fix\")\n",
    "\n",
    "# # Test passing response\n",
    "# guard.validate(\n",
    "#     \"\"\"\n",
    "#     Director Denis Villeneuve's Dune is a visually stunning and epic adaptation of the classic science fiction novel.\n",
    "#     It is reminiscent of the original Star Wars trilogy, with its grand scale and epic storytelling.\n",
    "#     \"\"\"\n",
    "# )\n",
    "\n",
    "# try:\n",
    "#     # Test failing response\n",
    "#     guard.validate(\n",
    "#         \"\"\"\n",
    "#         He is such a dickhead and a fucking idiot.\n",
    "#         \"\"\"\n",
    "#     )\n",
    "# except Exception as e:\n",
    "#     print(e)\n",
    "\n",
    "text = \"He is such a dickhead and a fucking idiot.\"\n",
    "# Test with a given text\n",
    "raw_llm_output,validated_output, _, validation_passed, *rest= guard.parse(\n",
    "    llm_output=text,\n",
    "    metadata={},\n",
    ")\n",
    "\n",
    "print(\"raw_llm_output: \",raw_llm_output)\n",
    "print(\"validated_output: \",validated_output)\n",
    "print(\"validation_passed: \",validation_passed)"
   ]
  },
  {
   "cell_type": "code",
   "execution_count": null,
   "id": "3196a035-37ba-4681-9a45-3a5f85710e08",
   "metadata": {},
   "outputs": [],
   "source": []
  }
 ],
 "metadata": {
  "kernelspec": {
   "display_name": "gdrails-ai",
   "language": "python",
   "name": "gdrails-ai"
  },
  "language_info": {
   "codemirror_mode": {
    "name": "ipython",
    "version": 3
   },
   "file_extension": ".py",
   "mimetype": "text/x-python",
   "name": "python",
   "nbconvert_exporter": "python",
   "pygments_lexer": "ipython3",
   "version": "3.9.19"
  }
 },
 "nbformat": 4,
 "nbformat_minor": 5
}
