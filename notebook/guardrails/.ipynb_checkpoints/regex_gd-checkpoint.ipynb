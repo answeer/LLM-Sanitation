{
 "cells": [
  {
   "cell_type": "code",
   "execution_count": null,
   "id": "19d1f814",
   "metadata": {},
   "outputs": [],
   "source": [
    "# Import Guard and Validator\n",
    "from guardrails.hub import RegexMatch\n",
    "from guardrails import Guard\n",
    "\n",
    "# Use the Guard with the validator\n",
    "guard = Guard().use(RegexMatch, regex=\"Open.*\", on_fail=\"fix\")\n",
    "\n",
    "# # Test passing response\n",
    "# guard.validate(\n",
    "#     \"OpenAI's GPT3.5 model is the latest in the GPT series. It is a powerful language model.\"\n",
    "# )\n",
    "\n",
    "# try:\n",
    "#     # Test failing response\n",
    "#     guard.validate(\n",
    "#         \"MetaAI's Llama2 is the latest in their open-source LLM series. It is a powerful language model.\"\n",
    "#     )\n",
    "# except Exception as e:\n",
    "#     print(e)\n",
    "\n",
    "# Parse the text\n",
    "text = \"MetaAI's Llama2 is the latest in their open-source LLM series. It is a powerful language model.\"\n",
    "output = guard.parse(\n",
    "    llm_output=text,\n",
    ")\n",
    "\n",
    "# Print the output\n",
    "print(output)\n"
   ]
  }
 ],
 "metadata": {},
 "nbformat": 4,
 "nbformat_minor": 5
}
