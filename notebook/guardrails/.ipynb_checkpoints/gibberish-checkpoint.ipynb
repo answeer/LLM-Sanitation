{
 "cells": [
  {
   "cell_type": "code",
   "execution_count": null,
   "id": "22fc29a0",
   "metadata": {},
   "outputs": [],
   "source": [
    "# Import Guard and Validator\n",
    "from guardrails.hub import GibberishText\n",
    "from guardrails import Guard\n",
    "\n",
    "# Use the Guard with the validator\n",
    "guard = Guard().use(\n",
    "    GibberishText, threshold=0.5, validation_method=\"sentence\", on_fail=\"fix\"\n",
    ")\n",
    "\n",
    "# Test passing response\n",
    "guard.validate(\n",
    "    \"Azure is a cloud computing service created by Microsoft. It's a significant competitor to AWS.\"\n",
    ")\n",
    "\n",
    "try:\n",
    "    # Test failing response\n",
    "    guard.validate(\n",
    "        \"Floppyland love great coffee okay. Fox fox fox. Move to New York City.\"\n",
    "    )\n",
    "except Exception as e:\n",
    "    print(e)\n",
    "\n",
    "\n",
    "text = \"\"\"\n",
    "Floppyland love great coffee okay. Fox fox fox. Move to New York City.\\\n",
    "\"\"\"\n",
    "output = guard.parse(\n",
    "    llm_output=text,\n",
    "    metadata={},\n",
    ")\n",
    "\n",
    "print(output)"
   ]
  }
 ],
 "metadata": {},
 "nbformat": 4,
 "nbformat_minor": 5
}
