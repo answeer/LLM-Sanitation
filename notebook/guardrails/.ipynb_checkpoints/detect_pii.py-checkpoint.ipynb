{
 "cells": [
  {
   "cell_type": "code",
   "execution_count": 3,
   "id": "c8c9ad7d",
   "metadata": {},
   "outputs": [
    {
     "name": "stderr",
     "output_type": "stream",
     "text": [
      "WARNING:presidio-analyzer:configuration file /Users/lijing/opt/anaconda3/envs/gdrails-ai/lib/python3.9/site-packages/conf/default.yaml not found.  Using default config: {'nlp_engine_name': 'spacy', 'models': [{'lang_code': 'en', 'model_name': 'en_core_web_lg'}]}.\n",
      "WARNING:presidio-analyzer:configuration file is missing 'ner_model_configuration'. Using default\n",
      "WARNING:presidio-analyzer:model_to_presidio_entity_mapping is missing from configuration, using default\n",
      "WARNING:presidio-analyzer:low_score_entity_names is missing from configuration, using default\n",
      "WARNING:presidio-analyzer:labels_to_ignore is missing from configuration, using default\n",
      "WARNING:presidio-analyzer:configuration file /Users/lijing/opt/anaconda3/envs/gdrails-ai/lib/python3.9/site-packages/conf/default.yaml not found.  Using default config: {'nlp_engine_name': 'spacy', 'models': [{'lang_code': 'en', 'model_name': 'en_core_web_lg'}]}.\n",
      "WARNING:presidio-analyzer:configuration file is missing 'ner_model_configuration'. Using default\n",
      "WARNING:presidio-analyzer:model_to_presidio_entity_mapping is missing from configuration, using default\n",
      "WARNING:presidio-analyzer:low_score_entity_names is missing from configuration, using default\n",
      "WARNING:presidio-analyzer:labels_to_ignore is missing from configuration, using default\n",
      "WARNING:presidio-analyzer:Entity DOMAIN_NAME doesn't have the corresponding recognizer in language : en\n",
      "WARNING:presidio-analyzer:Entity DOMAIN_NAME doesn't have the corresponding recognizer in language : en\n"
     ]
    },
    {
     "data": {
      "text/html": [
       "<pre style=\"white-space:pre;overflow-x:auto;line-height:normal;font-family:Menlo,'DejaVu Sans Mono',consolas,'Courier New',monospace\">raw_llm_output:  My email address is demo@lol.com, and my phone number is <span style=\"color: #008080; text-decoration-color: #008080; font-weight: bold\">1234567890</span>\n",
       "</pre>\n"
      ],
      "text/plain": [
       "raw_llm_output:  My email address is demo@lol.com, and my phone number is \u001b[1;36m1234567890\u001b[0m\n"
      ]
     },
     "metadata": {},
     "output_type": "display_data"
    },
    {
     "data": {
      "text/html": [
       "<pre style=\"white-space:pre;overflow-x:auto;line-height:normal;font-family:Menlo,'DejaVu Sans Mono',consolas,'Courier New',monospace\">validated_output:  My email address is <span style=\"font-weight: bold\">&lt;</span><span style=\"color: #ff00ff; text-decoration-color: #ff00ff; font-weight: bold\">EMAIL_ADDRESS</span><span style=\"color: #000000; text-decoration-color: #000000\">&gt;, and my phone number is &lt;PHONE_NUMBER</span><span style=\"font-weight: bold\">&gt;</span>\n",
       "</pre>\n"
      ],
      "text/plain": [
       "validated_output:  My email address is \u001b[1m<\u001b[0m\u001b[1;95mEMAIL_ADDRESS\u001b[0m\u001b[39m>, and my phone number is <PHONE_NUMBER\u001b[0m\u001b[1m>\u001b[0m\n"
      ]
     },
     "metadata": {},
     "output_type": "display_data"
    },
    {
     "data": {
      "text/html": [
       "<pre style=\"white-space:pre;overflow-x:auto;line-height:normal;font-family:Menlo,'DejaVu Sans Mono',consolas,'Courier New',monospace\">validation_passed:  <span style=\"color: #00ff00; text-decoration-color: #00ff00; font-style: italic\">True</span>\n",
       "</pre>\n"
      ],
      "text/plain": [
       "validation_passed:  \u001b[3;92mTrue\u001b[0m\n"
      ]
     },
     "metadata": {},
     "output_type": "display_data"
    }
   ],
   "source": [
    "# Import the guardrails package\n",
    "import guardrails as gd\n",
    "from guardrails.validators import PIIFilter\n",
    "from rich import print\n",
    "\n",
    "# Create Guard object with this validator\n",
    "# One can specify either pre-defined set of PII or SPI (Sensitive Personal Information) entities by passing in the `pii` or `spi` argument respectively.\n",
    "# It can be passed either durring intialization or later through the metadata argument in parse method.\n",
    "\n",
    "# One can also pass in a list of entities supported by Presidio to the `pii_entities` argument.\n",
    "guard = gd.Guard.from_string(\n",
    "    validators=[PIIFilter(pii_entities=\"pii\", on_fail=\"fix\")],\n",
    "    description=\"testmeout\",\n",
    ")\n",
    "\n",
    "# Test with a given text\n",
    "raw_llm_output,validated_output, _, validation_passed, *rest= guard.parse(\n",
    "    llm_output=text,\n",
    "    metadata={},\n",
    ")\n",
    "\n",
    "print(\"raw_llm_output: \",raw_llm_output)\n",
    "print(\"validated_output: \",validated_output)\n",
    "print(\"validation_passed: \",validation_passed)"
   ]
  },
  {
   "cell_type": "code",
   "execution_count": null,
   "id": "1fd0e306-8793-464c-93f0-5c5c324ab5ac",
   "metadata": {},
   "outputs": [],
   "source": []
  }
 ],
 "metadata": {
  "kernelspec": {
   "display_name": "gdrails-ai",
   "language": "python",
   "name": "gdrails-ai"
  },
  "language_info": {
   "codemirror_mode": {
    "name": "ipython",
    "version": 3
   },
   "file_extension": ".py",
   "mimetype": "text/x-python",
   "name": "python",
   "nbconvert_exporter": "python",
   "pygments_lexer": "ipython3",
   "version": "3.9.19"
  }
 },
 "nbformat": 4,
 "nbformat_minor": 5
}
