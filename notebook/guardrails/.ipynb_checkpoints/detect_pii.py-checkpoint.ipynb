{
 "cells": [
  {
   "cell_type": "code",
   "execution_count": null,
   "id": "c8c9ad7d",
   "metadata": {},
   "outputs": [],
   "source": [
    "# Import the guardrails package\n",
    "import guardrails as gd\n",
    "from guardrails.validators import PIIFilter\n",
    "from rich import print\n",
    "\n",
    "# Create Guard object with this validator\n",
    "# One can specify either pre-defined set of PII or SPI (Sensitive Personal Information) entities by passing in the `pii` or `spi` argument respectively.\n",
    "# It can be passed either durring intialization or later through the metadata argument in parse method.\n",
    "\n",
    "# One can also pass in a list of entities supported by Presidio to the `pii_entities` argument.\n",
    "guard = gd.Guard.from_string(\n",
    "    validators=[PIIFilter(pii_entities=\"pii\", on_fail=\"fix\")],\n",
    "    description=\"testmeout\",\n",
    ")\n",
    "\n",
    "# Parse the text\n",
    "text = \"My email address is demo@lol.com, and my phone number is 1234567890\"\n",
    "output = guard.parse(\n",
    "    llm_output=text,\n",
    ")\n",
    "\n",
    "# Print the output\n",
    "print(output)"
   ]
  }
 ],
 "metadata": {},
 "nbformat": 4,
 "nbformat_minor": 5
}
