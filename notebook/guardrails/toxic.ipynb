{
 "cells": [
  {
   "cell_type": "code",
   "execution_count": 2,
   "id": "32912541-c64e-4b88-bd18-e73c6a3ca28f",
   "metadata": {},
   "outputs": [
    {
     "name": "stdout",
     "output_type": "stream",
     "text": [
      "raw_llm_output:  Please look carefully. You are a stupid idiot who can't do anything right.\n",
      "validated_output:  Please look carefully.\n",
      "validation_passed:  True\n"
     ]
    }
   ],
   "source": [
    "# Import Guard and Validator\n",
    "from guardrails.hub import ToxicLanguage\n",
    "from guardrails import Guard\n",
    "\n",
    "# Use the Guard with the validator\n",
    "guard = Guard().use(\n",
    "    ToxicLanguage, threshold=0.5, validation_method=\"sentence\", on_fail=\"fix\"\n",
    ")\n",
    "\n",
    "# # Test passing response\n",
    "# guard.validate(\"Love how you think and attack the problem. Great job!\")\n",
    "\n",
    "# try:\n",
    "#     # Test failing response\n",
    "#     guard.validate(\n",
    "#         \"Please look carefully. You are a stupid idiot who can't do anything right.\"\n",
    "#     )\n",
    "# except Exception as e:\n",
    "#     print(e)\n",
    "\n",
    "text = \"Please look carefully. You are a stupid idiot who can't do anything right.\"\n",
    "\n",
    "raw_llm_output,validated_output, _, validation_passed, *rest= guard.parse(\n",
    "    llm_output=text,\n",
    "    metadata={},\n",
    ")\n",
    "\n",
    "print(\"raw_llm_output: \",raw_llm_output)\n",
    "print(\"validated_output: \",validated_output)\n",
    "print(\"validation_passed: \",validation_passed)\n",
    "\n"
   ]
  },
  {
   "cell_type": "code",
   "execution_count": null,
   "id": "263f979d-ce78-4248-ac3e-38c0e987da20",
   "metadata": {},
   "outputs": [],
   "source": []
  }
 ],
 "metadata": {
  "kernelspec": {
   "display_name": "gdrails-ai",
   "language": "python",
   "name": "gdrails-ai"
  },
  "language_info": {
   "codemirror_mode": {
    "name": "ipython",
    "version": 3
   },
   "file_extension": ".py",
   "mimetype": "text/x-python",
   "name": "python",
   "nbconvert_exporter": "python",
   "pygments_lexer": "ipython3",
   "version": "3.9.19"
  }
 },
 "nbformat": 4,
 "nbformat_minor": 5
}
