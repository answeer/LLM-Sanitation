{
 "cells": [
  {
   "cell_type": "code",
   "execution_count": null,
   "id": "7705a083",
   "metadata": {},
   "outputs": [],
   "source": [
    "# Import Guard and Validator\n",
    "from guardrails.hub import CorrectLanguage\n",
    "from guardrails import Guard\n",
    "\n",
    "# Setup Guard\n",
    "guard = Guard().use(\n",
    "    CorrectLanguage(expected_language_iso=\"en\", threshold=0.75,on_fail=\"fix\")\n",
    ")\n",
    "\n",
    "guard.validate(\"Thank you\")  # Validator passes\n",
    "guard.validate(\"Danke\")  # Validator fails\n",
    "\n",
    "\n",
    "# Parse the text\n",
    "text = \"我的邮箱地址\"\n",
    "output = guard.parse(\n",
    "    llm_output=text,\n",
    ")\n",
    "\n",
    "# Print the output\n",
    "print(output)"
   ]
  }
 ],
 "metadata": {},
 "nbformat": 4,
 "nbformat_minor": 5
}
