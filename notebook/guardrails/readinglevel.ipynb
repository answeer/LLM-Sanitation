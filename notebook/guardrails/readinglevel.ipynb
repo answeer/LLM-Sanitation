{
 "cells": [
  {
   "cell_type": "code",
   "execution_count": null,
   "id": "282fe83e",
   "metadata": {},
   "outputs": [],
   "source": [
    "# Import Guard and Validator\n",
    "from guardrails import Guard\n",
    "from guardrails.hub import ReadingLevel\n",
    "\n",
    "# Create a Guard with the validator\n",
    "guard = Guard().use(ReadingLevel, min=4, max=8, on_fail=\"exception\")\n",
    "\n",
    "guard.validate(\n",
    "    \"\"\"In a bustling bakery filled with the sweet scent of muffins and cookies, lived a mischievous little yeast named Sprout. \n",
    "    Sprout wasn't like the other yeasts who patiently puffed up dough. He longed for adventure! \n",
    "    One day, during a mixing frenzy, Sprout jumped on a batch of bread dough and hitched a ride. \n",
    "    He soared through the oven, dodging flames like a tiny acrobat, and emerged golden brown and bubbly. \n",
    "    Landing on a plate, he saw a wide-eyed boy about to take a bite! Sprout winked,\n",
    "    \"This bread might taste extra bouncy today!\" The boy laughed, taking a bite, and his eyes widened \n",
    "    with delight. From then on, Sprout continued his bakery escapades, adding a sprinkle of fun to every loaf!\n",
    "    \"\"\"\n",
    ")  # Validator passes\n",
    "\n",
    "try:\n",
    "    guard.validate(\n",
    "        \"\"\"A Jay venturing into a yard where Peacocks used to walk, found there a number of feathers\n",
    "        which had fallen from the Peacocks when they were moulting. He tied them all to his tail and strutted\n",
    "        down towards the Peacocks. When he came near them they soon discovered the cheat, and striding up to him\n",
    "        pecked at him and plucked away his borrowed plumes. So the Jay could do no better than go back to the\n",
    "        other Jays, who had watched his behaviour from a distance; but they were equally annoyed with him,\n",
    "        and told him:\"It is not only fine feathers that make fine birds.\n",
    "        \"\"\"\n",
    "    )  # Validator fails\n",
    "except Exception as e:\n",
    "    print(e)\n"
   ]
  }
 ],
 "metadata": {},
 "nbformat": 4,
 "nbformat_minor": 5
}
