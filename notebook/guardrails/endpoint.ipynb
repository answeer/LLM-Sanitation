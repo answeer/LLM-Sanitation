{
 "cells": [
  {
   "cell_type": "code",
   "execution_count": null,
   "id": "ecef2e6c",
   "metadata": {},
   "outputs": [],
   "source": [
    "# Import Guard and Validator\n",
    "from guardrails import Guard\n",
    "from guardrails.hub import EndpointIsReachable\n",
    "\n",
    "\n",
    "# Setup Guard\n",
    "guard = Guard().use(EndpointIsReachable, on_fail=\"exception\")\n",
    "\n",
    "response = guard.validate(\"https://www.guardrailsai.com/\")  # Validator passes\n",
    "\n",
    "try:\n",
    "    response = guard.validate(\"https://www.guardrailsai.co\")  # Validator fails\n",
    "except Exception as e:\n",
    "    print(e)"
   ]
  }
 ],
 "metadata": {},
 "nbformat": 4,
 "nbformat_minor": 5
}
