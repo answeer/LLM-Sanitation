{
 "cells": [
  {
   "cell_type": "code",
   "execution_count": null,
   "id": "de8d7eef",
   "metadata": {},
   "outputs": [],
   "source": [
    "# Import Guard and Validator\n",
    "from guardrails import Guard\n",
    "from guardrails.hub import ValidURL\n",
    "\n",
    "# Setup Guard\n",
    "guard = Guard().use(ValidURL, on_fail=\"exception\")\n",
    "response = guard.validate(\"http://www.google.com\")  # Validator passes\n",
    "\n",
    "try:\n",
    "    response = guard.validate(\"http://www.googlea.com\")  # Validator fails\n",
    "except Exception as e:\n",
    "    print(e)\n"
   ]
  }
 ],
 "metadata": {},
 "nbformat": 4,
 "nbformat_minor": 5
}
