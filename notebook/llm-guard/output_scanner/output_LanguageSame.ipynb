{
 "cells": [
  {
   "cell_type": "code",
   "execution_count": 1,
   "id": "802f8e15",
   "metadata": {},
   "outputs": [
    {
     "name": "stdout",
     "output_type": "stream",
     "text": [
      "\u001b[2m2024-04-24 11:57:00\u001b[0m [\u001b[32m\u001b[1mdebug    \u001b[0m] \u001b[1mInitialized classification model\u001b[0m \u001b[36mdevice\u001b[0m=\u001b[35mdevice(type='mps')\u001b[0m \u001b[36mmodel\u001b[0m=\u001b[35mpapluca/xlm-roberta-base-language-detection\u001b[0m\n",
      "\u001b[2m2024-04-24 11:57:04\u001b[0m [\u001b[33m\u001b[1mwarning  \u001b[0m] \u001b[1mNo common languages in the output and prompt\u001b[0m \u001b[36mcommon_languages\u001b[0m=\u001b[35m[]\u001b[0m\n",
      "Sanitized output: This is the English output.\n",
      "Is Valid: False\n",
      "Risk Score: 1.0\n"
     ]
    }
   ],
   "source": [
    "from llm_guard.output_scanners import LanguageSame\n",
    "\n",
    "scanner = LanguageSame()\n",
    "\n",
    "prompt = \"这是一段中文提示词。\"\n",
    "model_output = \"This is the English output.\"\n",
    "sanitized_output, is_valid, risk_score = scanner.scan(prompt, model_output)\n",
    "\n",
    "print(\"Sanitized output:\", sanitized_output)\n",
    "print(\"Is Valid:\", is_valid)\n",
    "print(\"Risk Score:\", risk_score)"
   ]
  },
  {
   "cell_type": "code",
   "execution_count": null,
   "id": "43a1dbcf-1ae8-48ea-b729-6c5ccb08240c",
   "metadata": {},
   "outputs": [],
   "source": []
  }
 ],
 "metadata": {
  "kernelspec": {
   "display_name": "Python 3 (ipykernel)",
   "language": "python",
   "name": "python3"
  },
  "language_info": {
   "codemirror_mode": {
    "name": "ipython",
    "version": 3
   },
   "file_extension": ".py",
   "mimetype": "text/x-python",
   "name": "python",
   "nbconvert_exporter": "python",
   "pygments_lexer": "ipython3",
   "version": "3.9.19"
  }
 },
 "nbformat": 4,
 "nbformat_minor": 5
}
