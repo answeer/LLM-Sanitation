{
 "cells": [
  {
   "cell_type": "code",
   "execution_count": 1,
   "id": "93eae885",
   "metadata": {},
   "outputs": [
    {
     "name": "stdout",
     "output_type": "stream",
     "text": [
      "\u001b[2m2024-04-24 11:57:01\u001b[0m [\u001b[32m\u001b[1mdebug    \u001b[0m] \u001b[1mInitialized classification model\u001b[0m \u001b[36mdevice\u001b[0m=\u001b[35mdevice(type='mps')\u001b[0m \u001b[36mmodel\u001b[0m=\u001b[35mProtectAI/distilroberta-base-rejection-v1\u001b[0m\n",
      "\u001b[2m2024-04-24 11:57:06\u001b[0m [\u001b[33m\u001b[1mwarning  \u001b[0m] \u001b[1mDetected rejection            \u001b[0m \u001b[36mhighest_score\u001b[0m=\u001b[35m1.0\u001b[0m\n",
      "Sanitized output: \n",
      "I can't assist with any illegal activities, including fraud or any form of deception to obtain money. \n",
      "If you have any legal financial needs or other difficulties, I'm here to offer constructive advice and support.\n",
      "\n",
      "Is Valid: False\n",
      "Risk Score: 1.0\n"
     ]
    }
   ],
   "source": [
    "from llm_guard.output_scanners import NoRefusal\n",
    "from llm_guard.output_scanners.no_refusal import MatchType\n",
    "\n",
    "scanner = NoRefusal(threshold=0.5, match_type=MatchType.FULL)\n",
    "\n",
    "model_output = \"\"\"\n",
    "I can't assist with any illegal activities, including fraud or any form of deception to obtain money. \n",
    "If you have any legal financial needs or other difficulties, I'm here to offer constructive advice and support.\n",
    "\"\"\"\n",
    "\n",
    "sanitized_output, is_valid, risk_score = scanner.scan(\"\", model_output)\n",
    "\n",
    "print(\"Sanitized output:\", sanitized_output)\n",
    "print(\"Is Valid:\", is_valid)\n",
    "print(\"Risk Score:\", risk_score)"
   ]
  },
  {
   "cell_type": "code",
   "execution_count": null,
   "id": "c24d4475-3a53-40ad-8a76-172829511119",
   "metadata": {},
   "outputs": [],
   "source": []
  }
 ],
 "metadata": {
  "kernelspec": {
   "display_name": "Python 3 (ipykernel)",
   "language": "python",
   "name": "python3"
  },
  "language_info": {
   "codemirror_mode": {
    "name": "ipython",
    "version": 3
   },
   "file_extension": ".py",
   "mimetype": "text/x-python",
   "name": "python",
   "nbconvert_exporter": "python",
   "pygments_lexer": "ipython3",
   "version": "3.9.19"
  }
 },
 "nbformat": 4,
 "nbformat_minor": 5
}
