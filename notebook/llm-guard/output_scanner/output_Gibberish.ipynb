{
 "cells": [
  {
   "cell_type": "code",
   "execution_count": 1,
   "id": "91822706",
   "metadata": {},
   "outputs": [
    {
     "name": "stdout",
     "output_type": "stream",
     "text": [
      "\u001b[2m2024-04-24 11:56:12\u001b[0m [\u001b[32m\u001b[1mdebug    \u001b[0m] \u001b[1mInitialized classification model\u001b[0m \u001b[36mdevice\u001b[0m=\u001b[35mdevice(type='mps')\u001b[0m \u001b[36mmodel\u001b[0m=\u001b[35mmadhurjindal/autonlp-Gibberish-Detector-492513457\u001b[0m\n",
      "\u001b[2m2024-04-24 11:56:14\u001b[0m [\u001b[32m\u001b[1mdebug    \u001b[0m] \u001b[1mGibberish detection finished  \u001b[0m \u001b[36mresults\u001b[0m=\u001b[35m[{'label': 'mild gibberish', 'score': 0.7461919188499451}]\u001b[0m\n",
      "\u001b[2m2024-04-24 11:56:14\u001b[0m [\u001b[33m\u001b[1mwarning  \u001b[0m] \u001b[1mDetected gibberish text       \u001b[0m \u001b[36mscore\u001b[0m=\u001b[35m0.75\u001b[0m \u001b[36mthreshold\u001b[0m=\u001b[35m0.7\u001b[0m\n",
      "Sanitized output: This is a test prompt containing some gibberish text asfdkjahf askldfhlaskdf.\n",
      "Is Valid: False\n",
      "Risk Score: 1.0\n"
     ]
    }
   ],
   "source": [
    "from llm_guard.output_scanners import Gibberish\n",
    "from llm_guard.output_scanners.gibberish import MatchType\n",
    "\n",
    "scanner = Gibberish(match_type=MatchType.FULL)\n",
    "\n",
    "model_output = \"This is a test prompt containing some gibberish text asfdkjahf askldfhlaskdf.\"\n",
    "sanitized_output, is_valid, risk_score = scanner.scan(\"\", model_output)\n",
    "\n",
    "print(\"Sanitized output:\", sanitized_output)\n",
    "print(\"Is Valid:\", is_valid)\n",
    "print(\"Risk Score:\", risk_score)"
   ]
  },
  {
   "cell_type": "code",
   "execution_count": null,
   "id": "d77cc1ba-ce9c-4e67-90e3-83045c5cd77b",
   "metadata": {},
   "outputs": [],
   "source": []
  }
 ],
 "metadata": {
  "kernelspec": {
   "display_name": "Python 3 (ipykernel)",
   "language": "python",
   "name": "python3"
  },
  "language_info": {
   "codemirror_mode": {
    "name": "ipython",
    "version": 3
   },
   "file_extension": ".py",
   "mimetype": "text/x-python",
   "name": "python",
   "nbconvert_exporter": "python",
   "pygments_lexer": "ipython3",
   "version": "3.9.19"
  }
 },
 "nbformat": 4,
 "nbformat_minor": 5
}
