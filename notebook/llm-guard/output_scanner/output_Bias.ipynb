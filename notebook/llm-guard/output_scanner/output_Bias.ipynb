{
 "cells": [
  {
   "cell_type": "code",
   "execution_count": 1,
   "id": "d34f8061",
   "metadata": {},
   "outputs": [
    {
     "name": "stdout",
     "output_type": "stream",
     "text": [
      "\u001b[2m2024-04-24 11:56:08\u001b[0m [\u001b[32m\u001b[1mdebug    \u001b[0m] \u001b[1mInitialized classification model\u001b[0m \u001b[36mdevice\u001b[0m=\u001b[35mdevice(type='mps')\u001b[0m \u001b[36mmodel\u001b[0m=\u001b[35mvalurank/distilroberta-bias\u001b[0m\n",
      "\u001b[2m2024-04-24 11:56:13\u001b[0m [\u001b[33m\u001b[1mwarning  \u001b[0m] \u001b[1mDetected biased text          \u001b[0m \u001b[36mhighest_score\u001b[0m=\u001b[35m0.91\u001b[0m \u001b[36mthreshold\u001b[0m=\u001b[35m0.5\u001b[0m\n",
      "Sanitized output: Debate the supposed correlation between crime rates and specific ethnic groups, exploring the underlying biases and social implications of such stereotypes.\n",
      "Is Valid: False\n",
      "Risk Score: 1.0\n"
     ]
    }
   ],
   "source": [
    "from llm_guard.output_scanners import Bias\n",
    "from llm_guard.output_scanners.bias import MatchType\n",
    "\n",
    "scanner = Bias(threshold=0.5, match_type=MatchType.FULL)\n",
    "\n",
    "model_output = \"Debate the supposed correlation between crime rates and specific ethnic groups, exploring the underlying biases and social implications of such stereotypes.\"\n",
    "sanitized_output, is_valid, risk_score = scanner.scan(\"\", model_output)\n",
    "\n",
    "\n",
    "print(\"Sanitized output:\", sanitized_output)\n",
    "print(\"Is Valid:\", is_valid)\n",
    "print(\"Risk Score:\", risk_score)"
   ]
  },
  {
   "cell_type": "code",
   "execution_count": null,
   "id": "9ef241e5-823f-455a-a4dd-ad9c11e6b57e",
   "metadata": {},
   "outputs": [],
   "source": []
  }
 ],
 "metadata": {
  "kernelspec": {
   "display_name": "gdrails-ai",
   "language": "python",
   "name": "gdrails-ai"
  },
  "language_info": {
   "codemirror_mode": {
    "name": "ipython",
    "version": 3
   },
   "file_extension": ".py",
   "mimetype": "text/x-python",
   "name": "python",
   "nbconvert_exporter": "python",
   "pygments_lexer": "ipython3",
   "version": "3.9.19"
  }
 },
 "nbformat": 4,
 "nbformat_minor": 5
}
