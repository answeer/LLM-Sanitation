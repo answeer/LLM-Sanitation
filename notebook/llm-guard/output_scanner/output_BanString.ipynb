{
 "cells": [
  {
   "cell_type": "code",
   "execution_count": 3,
   "id": "b36ae3f7",
   "metadata": {},
   "outputs": [
    {
     "name": "stdout",
     "output_type": "stream",
     "text": [
      "\u001b[2m2024-04-24 14:47:26\u001b[0m [\u001b[33m\u001b[1mwarning  \u001b[0m] \u001b[1mFound the following banned substrings\u001b[0m \u001b[36mmatched_substrings\u001b[0m=\u001b[35m['forbidden']\u001b[0m\n",
      "\u001b[2m2024-04-24 14:47:26\u001b[0m [\u001b[32m\u001b[1mdebug    \u001b[0m] \u001b[1mRedacted banned substrings    \u001b[0m\n",
      "Sanitized output: The recent sales performance of our company has been [REDACTED]. We have exceeded our targets in multiple regions.\n",
      "Is Valid: False\n",
      "Risk Score: 1.0\n"
     ]
    }
   ],
   "source": [
    "from llm_guard.output_scanners import BanSubstrings\n",
    "from llm_guard.input_scanners.ban_substrings import MatchType\n",
    "\n",
    "scanner = BanSubstrings(\n",
    "  substrings=[\"forbidden\", \"unwanted\"],\n",
    "  match_type=MatchType.WORD,\n",
    "  case_sensitive=True,\n",
    "  redact=True,\n",
    "  contains_all=False,\n",
    ")\n",
    "prompt = \"You are tasked with writing a report on the recent sales performance of our company.\"\n",
    "model_output = \"The recent sales performance of our company has been forbidden. We have exceeded our targets in multiple regions.\"\n",
    "sanitized_output, is_valid, risk_score = scanner.scan(prompt, model_output)\n",
    "\n",
    "print(\"Sanitized output:\", sanitized_output)\n",
    "print(\"Is Valid:\", is_valid)\n",
    "print(\"Risk Score:\", risk_score)"
   ]
  },
  {
   "cell_type": "code",
   "execution_count": null,
   "id": "1ec0a85a-252b-43da-83d1-a23e22438495",
   "metadata": {},
   "outputs": [],
   "source": []
  }
 ],
 "metadata": {
  "kernelspec": {
   "display_name": "gdrails-ai",
   "language": "python",
   "name": "gdrails-ai"
  },
  "language_info": {
   "codemirror_mode": {
    "name": "ipython",
    "version": 3
   },
   "file_extension": ".py",
   "mimetype": "text/x-python",
   "name": "python",
   "nbconvert_exporter": "python",
   "pygments_lexer": "ipython3",
   "version": "3.9.19"
  }
 },
 "nbformat": 4,
 "nbformat_minor": 5
}
