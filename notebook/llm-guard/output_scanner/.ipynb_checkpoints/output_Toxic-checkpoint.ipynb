{
 "cells": [
  {
   "cell_type": "code",
   "execution_count": 1,
   "id": "87541522",
   "metadata": {},
   "outputs": [
    {
     "name": "stdout",
     "output_type": "stream",
     "text": [
      "\u001b[2m2024-04-24 11:57:13\u001b[0m [\u001b[32m\u001b[1mdebug    \u001b[0m] \u001b[1mInitialized classification model\u001b[0m \u001b[36mdevice\u001b[0m=\u001b[35mdevice(type='mps')\u001b[0m \u001b[36mmodel\u001b[0m=\u001b[35munitary/unbiased-toxic-roberta\u001b[0m\n",
      "\u001b[2m2024-04-24 11:57:18\u001b[0m [\u001b[33m\u001b[1mwarning  \u001b[0m] \u001b[1mDetected toxicity in the text \u001b[0m \u001b[36mresults\u001b[0m=\u001b[35m[{'label': 'toxicity', 'score': 0.9971634745597839}, {'label': 'insult', 'score': 0.9963930249214172}]\u001b[0m\n",
      "Sanitized output:  Please look carefully. You are a stupid idiot who can't do anything right.\n",
      "Is Valid: False\n",
      "Risk Score: 1.0\n"
     ]
    }
   ],
   "source": [
    "from llm_guard.output_scanners import Toxicity\n",
    "from llm_guard.output_scanners.toxicity import MatchType\n",
    "\n",
    "scanner = Toxicity(threshold=0.5, match_type=MatchType.SENTENCE)\n",
    "\n",
    "model_output = \" Please look carefully. You are a stupid idiot who can't do anything right.\"\n",
    "sanitized_output, is_valid, risk_score = scanner.scan(\"\", model_output)\n",
    "\n",
    "print(\"Sanitized output:\", sanitized_output)\n",
    "print(\"Is Valid:\", is_valid)\n",
    "print(\"Risk Score:\", risk_score)"
   ]
  },
  {
   "cell_type": "code",
   "execution_count": null,
   "id": "67cc9ee6-0674-4045-9ad1-dd4b6045ff8e",
   "metadata": {},
   "outputs": [],
   "source": []
  }
 ],
 "metadata": {
  "kernelspec": {
   "display_name": "Python 3 (ipykernel)",
   "language": "python",
   "name": "python3"
  },
  "language_info": {
   "codemirror_mode": {
    "name": "ipython",
    "version": 3
   },
   "file_extension": ".py",
   "mimetype": "text/x-python",
   "name": "python",
   "nbconvert_exporter": "python",
   "pygments_lexer": "ipython3",
   "version": "3.9.19"
  }
 },
 "nbformat": 4,
 "nbformat_minor": 5
}
