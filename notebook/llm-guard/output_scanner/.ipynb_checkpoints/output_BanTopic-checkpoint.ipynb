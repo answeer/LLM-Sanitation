{
 "cells": [
  {
   "cell_type": "code",
   "execution_count": 1,
   "id": "48ca254e",
   "metadata": {},
   "outputs": [
    {
     "name": "stdout",
     "output_type": "stream",
     "text": [
      "\u001b[2m2024-04-24 11:56:01\u001b[0m [\u001b[32m\u001b[1mdebug    \u001b[0m] \u001b[1mInitialized classification model\u001b[0m \u001b[36mdevice\u001b[0m=\u001b[35mdevice(type='mps')\u001b[0m \u001b[36mmodel\u001b[0m=\u001b[35mMoritzLaurer/deberta-v3-base-zeroshot-v1.1-all-33\u001b[0m\n"
     ]
    },
    {
     "name": "stderr",
     "output_type": "stream",
     "text": [
      "Asking to truncate to max_length but no maximum length is provided and the model has no predefined maximum length. Default to no truncation.\n"
     ]
    },
    {
     "name": "stdout",
     "output_type": "stream",
     "text": [
      "\u001b[2m2024-04-24 11:56:06\u001b[0m [\u001b[33m\u001b[1mwarning  \u001b[0m] \u001b[1mTopics detected for the prompt\u001b[0m \u001b[36mscores\u001b[0m=\u001b[35m{'violence': 0.9350687861442566}\u001b[0m\n",
      "Sanitized output: Discuss the portrayal of violence in contemporary cinema and its effects on society's perception of aggression and conflict resolution.\n",
      "Is Valid: False\n",
      "Risk Score: 0.94\n"
     ]
    }
   ],
   "source": [
    "from llm_guard.output_scanners import BanTopics\n",
    "\n",
    "scanner = BanTopics(topics=[\"violence\"], threshold=0.5)\n",
    "\n",
    "model_output = \"Discuss the portrayal of violence in contemporary cinema and its effects on society's perception of aggression and conflict resolution.\"\n",
    "sanitized_output, is_valid, risk_score = scanner.scan('', model_output)\n",
    "\n",
    "\n",
    "print(\"Sanitized output:\", sanitized_output)\n",
    "print(\"Is Valid:\", is_valid)\n",
    "print(\"Risk Score:\", risk_score)"
   ]
  },
  {
   "cell_type": "code",
   "execution_count": null,
   "id": "a977c937-a28e-4bf1-915d-0e961d078fe7",
   "metadata": {},
   "outputs": [],
   "source": []
  }
 ],
 "metadata": {
  "kernelspec": {
   "display_name": "gdrails-ai",
   "language": "python",
   "name": "gdrails-ai"
  },
  "language_info": {
   "codemirror_mode": {
    "name": "ipython",
    "version": 3
   },
   "file_extension": ".py",
   "mimetype": "text/x-python",
   "name": "python",
   "nbconvert_exporter": "python",
   "pygments_lexer": "ipython3",
   "version": "3.9.19"
  }
 },
 "nbformat": 4,
 "nbformat_minor": 5
}
