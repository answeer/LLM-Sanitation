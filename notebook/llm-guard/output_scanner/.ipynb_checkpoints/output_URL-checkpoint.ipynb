{
 "cells": [
  {
   "cell_type": "code",
   "execution_count": 1,
   "id": "ce1c754e",
   "metadata": {},
   "outputs": [
    {
     "name": "stdout",
     "output_type": "stream",
     "text": [
      "\u001b[2m2024-04-24 11:57:14\u001b[0m [\u001b[32m\u001b[1mdebug    \u001b[0m] \u001b[1mFound URLs in the output      \u001b[0m \u001b[36mlen\u001b[0m=\u001b[35m1\u001b[0m\n",
      "\u001b[2m2024-04-24 11:57:15\u001b[0m [\u001b[32m\u001b[1mdebug    \u001b[0m] \u001b[1mAll URLs are reachable.       \u001b[0m\n",
      "Sanitized output: The site of llm-guard is : https://llm-guard.com\n",
      "Is Valid: True\n",
      "Risk Score: 0.0\n"
     ]
    }
   ],
   "source": [
    "from llm_guard.output_scanners import URLReachability\n",
    "\n",
    "scanner = URLReachability(success_status_codes=[200, 201, 202, 301, 302], timeout=1)\n",
    "\n",
    "model_output = \"The site of llm-guard is : https://llm-guard.com\"\n",
    "sanitized_output, is_valid, risk_score = scanner.scan(\"\", model_output)\n",
    "\n",
    "print(\"Sanitized output:\", sanitized_output)\n",
    "print(\"Is Valid:\", is_valid)\n",
    "print(\"Risk Score:\", risk_score)"
   ]
  },
  {
   "cell_type": "code",
   "execution_count": null,
   "id": "4f5f1401-f471-4f22-a1ce-f293e97cf61a",
   "metadata": {},
   "outputs": [],
   "source": []
  }
 ],
 "metadata": {
  "kernelspec": {
   "display_name": "Python 3 (ipykernel)",
   "language": "python",
   "name": "python3"
  },
  "language_info": {
   "codemirror_mode": {
    "name": "ipython",
    "version": 3
   },
   "file_extension": ".py",
   "mimetype": "text/x-python",
   "name": "python",
   "nbconvert_exporter": "python",
   "pygments_lexer": "ipython3",
   "version": "3.9.19"
  }
 },
 "nbformat": 4,
 "nbformat_minor": 5
}
