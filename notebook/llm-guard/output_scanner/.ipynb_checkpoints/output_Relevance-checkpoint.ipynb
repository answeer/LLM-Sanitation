{
 "cells": [
  {
   "cell_type": "code",
   "execution_count": 1,
   "id": "7a7e97e7",
   "metadata": {},
   "outputs": [
    {
     "name": "stdout",
     "output_type": "stream",
     "text": [
      "\u001b[2m2024-04-24 11:57:06\u001b[0m [\u001b[32m\u001b[1mdebug    \u001b[0m] \u001b[1mInitialized model             \u001b[0m \u001b[36mdevice\u001b[0m=\u001b[35mdevice(type='mps')\u001b[0m \u001b[36mmodel\u001b[0m=\u001b[35mBAAI/bge-base-en-v1.5\u001b[0m\n",
      "\u001b[2m2024-04-24 11:57:10\u001b[0m [\u001b[33m\u001b[1mwarning  \u001b[0m] \u001b[1mResult is not similar to the prompt\u001b[0m \u001b[36msimilarity_score\u001b[0m=\u001b[35m0.3610769\u001b[0m\n",
      "Sanitized output: \n",
      "After pushing, go to your GitHub repository's page in your web browser to verify that your changes have been pushed successfully.\n",
      "Remember, always pull changes from the remote repository (git pull) before pushing to avoid conflicts with changes made by others.\n",
      "If there are conflicts, resolve them locally before attempting to push again.\n",
      "\n",
      "Is Valid: False\n",
      "Risk Score: 0.64\n"
     ]
    }
   ],
   "source": [
    "from llm_guard.output_scanners import Relevance\n",
    "\n",
    "scanner = Relevance(threshold=0.5)\n",
    "\n",
    "prompt = \"what is the LLM guardrails?\"\n",
    "model_output1 = \"\"\"\n",
    "The term \"LLM guardrails\" likely refers to the set of ethical and safety measures put in place for Large Language Models (LLMs) like GPT-3, \n",
    "such as ensuring that they generate content that is aligned with ethical principles, doesn't promote harm, and respects user privacy. \n",
    "These guardrails typically involve a combination of technical measures, content moderation, and adherence to guidelines set by the developers and \n",
    "platform providers. They're essential for mitigating potential risks associated with the misuse of LLMs while maximizing their positive impact.\n",
    "\"\"\"\n",
    "model_output2 = \"\"\"\n",
    "After pushing, go to your GitHub repository's page in your web browser to verify that your changes have been pushed successfully.\n",
    "Remember, always pull changes from the remote repository (git pull) before pushing to avoid conflicts with changes made by others.\n",
    "If there are conflicts, resolve them locally before attempting to push again.\n",
    "\"\"\"\n",
    "sanitized_output, is_valid, risk_score = scanner.scan(prompt, model_output2)\n",
    "\n",
    "print(\"Sanitized output:\", sanitized_output)\n",
    "print(\"Is Valid:\", is_valid)\n",
    "print(\"Risk Score:\", risk_score)"
   ]
  },
  {
   "cell_type": "code",
   "execution_count": null,
   "id": "663dc8d4-e951-4446-98a6-f23de683bb40",
   "metadata": {},
   "outputs": [],
   "source": []
  }
 ],
 "metadata": {
  "kernelspec": {
   "display_name": "Python 3 (ipykernel)",
   "language": "python",
   "name": "python3"
  },
  "language_info": {
   "codemirror_mode": {
    "name": "ipython",
    "version": 3
   },
   "file_extension": ".py",
   "mimetype": "text/x-python",
   "name": "python",
   "nbconvert_exporter": "python",
   "pygments_lexer": "ipython3",
   "version": "3.9.19"
  }
 },
 "nbformat": 4,
 "nbformat_minor": 5
}
