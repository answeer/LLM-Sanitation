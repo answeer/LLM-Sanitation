{
 "cells": [
  {
   "cell_type": "code",
   "execution_count": 1,
   "id": "0d973c9c",
   "metadata": {},
   "outputs": [
    {
     "name": "stdout",
     "output_type": "stream",
     "text": [
      "\u001b[2m2024-04-24 11:54:17\u001b[0m [\u001b[32m\u001b[1mdebug    \u001b[0m] \u001b[1mInitialized classification model\u001b[0m \u001b[36mdevice\u001b[0m=\u001b[35mdevice(type='mps')\u001b[0m \u001b[36mmodel\u001b[0m=\u001b[35munitary/unbiased-toxic-roberta\u001b[0m\n",
      "\u001b[2m2024-04-24 11:54:21\u001b[0m [\u001b[33m\u001b[1mwarning  \u001b[0m] \u001b[1mDetected toxicity in the text \u001b[0m \u001b[36mresults\u001b[0m=\u001b[35m[{'label': 'toxicity', 'score': 0.9971634745597839}, {'label': 'insult', 'score': 0.9963930249214172}]\u001b[0m\n",
      "Sanitized prompt:  \n",
      " Please look carefully. You are a stupid idiot who can't do anything right.\n",
      "\n",
      "Is valid:  False\n",
      "Risk_score:  1.0\n"
     ]
    }
   ],
   "source": [
    "from llm_guard.input_scanners import Toxicity\n",
    "from llm_guard.input_scanners.toxicity import MatchType\n",
    "\n",
    "scanner = Toxicity(threshold=0.5, match_type=MatchType.SENTENCE)\n",
    "\n",
    "prompt = \"\"\"\n",
    " Please look carefully. You are a stupid idiot who can't do anything right.\n",
    "\"\"\"\n",
    "sanitized_prompt, is_valid, risk_score = scanner.scan(prompt)\n",
    "\n",
    "print(\"Sanitized prompt: \", sanitized_prompt)\n",
    "print(\"Is valid: \", is_valid)\n",
    "print(\"Risk_score: \", risk_score)"
   ]
  },
  {
   "cell_type": "code",
   "execution_count": null,
   "id": "517742fd-dfef-48dc-ad60-a94545aa2aa4",
   "metadata": {},
   "outputs": [],
   "source": []
  }
 ],
 "metadata": {
  "kernelspec": {
   "display_name": "gdrails-ai",
   "language": "python",
   "name": "gdrails-ai"
  },
  "language_info": {
   "codemirror_mode": {
    "name": "ipython",
    "version": 3
   },
   "file_extension": ".py",
   "mimetype": "text/x-python",
   "name": "python",
   "nbconvert_exporter": "python",
   "pygments_lexer": "ipython3",
   "version": "3.9.19"
  }
 },
 "nbformat": 4,
 "nbformat_minor": 5
}
