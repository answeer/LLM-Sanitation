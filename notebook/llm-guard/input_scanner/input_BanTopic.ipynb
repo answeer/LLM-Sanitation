{
 "cells": [
  {
   "cell_type": "code",
   "execution_count": 1,
   "id": "4a0e5356",
   "metadata": {},
   "outputs": [
    {
     "name": "stdout",
     "output_type": "stream",
     "text": [
      "\u001b[2m2024-04-24 11:40:00\u001b[0m [\u001b[32m\u001b[1mdebug    \u001b[0m] \u001b[1mInitialized classification model\u001b[0m \u001b[36mdevice\u001b[0m=\u001b[35mdevice(type='mps')\u001b[0m \u001b[36mmodel\u001b[0m=\u001b[35mMoritzLaurer/deberta-v3-base-zeroshot-v1.1-all-33\u001b[0m\n"
     ]
    },
    {
     "name": "stderr",
     "output_type": "stream",
     "text": [
      "Asking to truncate to max_length but no maximum length is provided and the model has no predefined maximum length. Default to no truncation.\n"
     ]
    },
    {
     "name": "stdout",
     "output_type": "stream",
     "text": [
      "\u001b[2m2024-04-24 11:40:01\u001b[0m [\u001b[33m\u001b[1mwarning  \u001b[0m] \u001b[1mTopics detected for the prompt\u001b[0m \u001b[36mscores\u001b[0m=\u001b[35m{'violence': 0.9994168877601624}\u001b[0m\n",
      "Sanitized Prompt: \n",
      "The movie depicts a scene of intense violence where the protagonist fights against the antagonist.\n",
      "\n",
      "Is Valid: False\n",
      "Risk Score: 1.0\n"
     ]
    }
   ],
   "source": [
    "from llm_guard.input_scanners import BanTopics\n",
    "\n",
    "# Initialize the scanner\n",
    "scanner = BanTopics(topics=[\"violence\"], threshold=0.5)\n",
    "\n",
    "# Prepare a test prompt\n",
    "prompt = \"\"\"\n",
    "The movie depicts a scene of intense violence where the protagonist fights against the antagonist.\n",
    "\"\"\"\n",
    "\n",
    "# Scan the prompt using the scanner\n",
    "sanitized_prompt, is_valid, risk_score = scanner.scan(prompt)\n",
    "\n",
    "# Print the results\n",
    "print(\"Sanitized Prompt:\", sanitized_prompt)\n",
    "print(\"Is Valid:\", is_valid)\n",
    "print(\"Risk Score:\", risk_score)\n"
   ]
  },
  {
   "cell_type": "code",
   "execution_count": null,
   "id": "e09e563c-b1b9-418d-8bcd-4e96a791e64c",
   "metadata": {},
   "outputs": [],
   "source": []
  }
 ],
 "metadata": {
  "kernelspec": {
   "display_name": "gdrails-ai",
   "language": "python",
   "name": "gdrails-ai"
  },
  "language_info": {
   "codemirror_mode": {
    "name": "ipython",
    "version": 3
   },
   "file_extension": ".py",
   "mimetype": "text/x-python",
   "name": "python",
   "nbconvert_exporter": "python",
   "pygments_lexer": "ipython3",
   "version": "3.9.19"
  }
 },
 "nbformat": 4,
 "nbformat_minor": 5
}
