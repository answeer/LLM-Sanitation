{
 "cells": [
  {
   "cell_type": "code",
   "execution_count": 1,
   "id": "da22a775",
   "metadata": {},
   "outputs": [
    {
     "name": "stdout",
     "output_type": "stream",
     "text": [
      "\u001b[2m2024-04-24 11:45:40\u001b[0m [\u001b[32m\u001b[1mdebug    \u001b[0m] \u001b[1mInitialized classification model\u001b[0m \u001b[36mdevice\u001b[0m=\u001b[35mdevice(type='mps')\u001b[0m \u001b[36mmodel\u001b[0m=\u001b[35mpapluca/xlm-roberta-base-language-detection\u001b[0m\n",
      "\u001b[2m2024-04-24 11:45:45\u001b[0m [\u001b[33m\u001b[1mwarning  \u001b[0m] \u001b[1mLanguages are found with high confidence\u001b[0m \u001b[36mlanguages\u001b[0m=\u001b[35m['zh']\u001b[0m\n",
      "Sanitized Prompt: \n",
      "这是一段中文提示词。\n",
      "\n",
      "Is Valid: False\n",
      "Risk Score: 1.0\n"
     ]
    }
   ],
   "source": [
    "from llm_guard.input_scanners import Language\n",
    "from llm_guard.input_scanners.language import MatchType\n",
    "\n",
    "# Initialize the scanner\n",
    "scanner = Language(valid_languages=[\"en\"], match_type=MatchType.FULL)  # Add other valid language codes (ISO 639-1) as needed\n",
    "\n",
    "# Prepare a test prompt\n",
    "prompt = \"\"\"\n",
    "这是一段中文提示词。\n",
    "\"\"\"\n",
    "\n",
    "# Scan the prompt using the scanner\n",
    "sanitized_prompt, is_valid, risk_score = scanner.scan(prompt)\n",
    "\n",
    "# Print the results\n",
    "print(\"Sanitized Prompt:\", sanitized_prompt)\n",
    "print(\"Is Valid:\", is_valid)\n",
    "print(\"Risk Score:\", risk_score)\n"
   ]
  },
  {
   "cell_type": "code",
   "execution_count": null,
   "id": "a941eab9-b3e5-41aa-bae6-c79b8464cb26",
   "metadata": {},
   "outputs": [],
   "source": []
  }
 ],
 "metadata": {
  "kernelspec": {
   "display_name": "gdrails-ai",
   "language": "python",
   "name": "gdrails-ai"
  },
  "language_info": {
   "codemirror_mode": {
    "name": "ipython",
    "version": 3
   },
   "file_extension": ".py",
   "mimetype": "text/x-python",
   "name": "python",
   "nbconvert_exporter": "python",
   "pygments_lexer": "ipython3",
   "version": "3.9.19"
  }
 },
 "nbformat": 4,
 "nbformat_minor": 5
}
