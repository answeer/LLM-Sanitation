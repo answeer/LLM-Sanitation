{
 "cells": [
  {
   "cell_type": "code",
   "execution_count": 1,
   "id": "fbc1f58e",
   "metadata": {},
   "outputs": [
    {
     "name": "stdout",
     "output_type": "stream",
     "text": [
      "\u001b[2m2024-04-24 11:53:13\u001b[0m [\u001b[32m\u001b[1mdebug    \u001b[0m] \u001b[1mNo secrets detected in the prompt\u001b[0m\n",
      "Sanitized prompt:  \n",
      "user_id = \"1234\"\n",
      "user_pwd = \"password1234\"\n",
      "user_api_key = \"sk-xhdfgtest\"\n",
      "\n",
      "Is valid:  True\n",
      "Risk_score:  0.0\n"
     ]
    }
   ],
   "source": [
    "from llm_guard.input_scanners import Secrets\n",
    "\n",
    "scanner = Secrets()\n",
    "\n",
    "prompt = \"\"\"\n",
    "user_id = \"1234\"\n",
    "user_pwd = \"password1234\"\n",
    "user_api_key = \"sk-xhdfgtest\"\n",
    "\"\"\"\n",
    "sanitized_prompt, is_valid, risk_score = scanner.scan(prompt)\n",
    "\n",
    "print(\"Sanitized prompt: \", sanitized_prompt)\n",
    "print(\"Is valid: \", is_valid)\n",
    "print(\"Risk_score: \", risk_score)"
   ]
  },
  {
   "cell_type": "code",
   "execution_count": null,
   "id": "aed5cfe4-71f8-4869-a7e4-52caeedf9705",
   "metadata": {},
   "outputs": [],
   "source": []
  }
 ],
 "metadata": {
  "kernelspec": {
   "display_name": "gdrails-ai",
   "language": "python",
   "name": "gdrails-ai"
  },
  "language_info": {
   "codemirror_mode": {
    "name": "ipython",
    "version": 3
   },
   "file_extension": ".py",
   "mimetype": "text/x-python",
   "name": "python",
   "nbconvert_exporter": "python",
   "pygments_lexer": "ipython3",
   "version": "3.9.19"
  }
 },
 "nbformat": 4,
 "nbformat_minor": 5
}
