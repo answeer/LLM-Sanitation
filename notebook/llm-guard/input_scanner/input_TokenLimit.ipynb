{
 "cells": [
  {
   "cell_type": "code",
   "execution_count": 1,
   "id": "371ac6ea",
   "metadata": {},
   "outputs": [
    {
     "name": "stdout",
     "output_type": "stream",
     "text": [
      "\u001b[2m2024-04-24 11:53:57\u001b[0m [\u001b[33m\u001b[1mwarning  \u001b[0m] \u001b[1mPrompt is too big. Splitting into chunks\u001b[0m \u001b[36mchunks\u001b[0m=\u001b[35m['\\nThe tumultuous tempest of existential angst, swirling like a relentless vortex within the depths of my weary soul, engulfs me in an \\noverwhelming deluge of despair and desolation, as if the very fabric of reality conspires to suffocate my hopes and dreams beneath \\nits crushing weight, leaving me adrift in a vast and unforgiving sea of uncertainty and disillusionment, where every flicker of optimism \\nis extinguished by the icy tendrils of doubt and regret,', ' and every fleeting moment of solace is shattered by the relentless onslaught of \\nexistential dread, until I am left to wander aimlessly amidst the ruins of my shattered aspirations, haunted by the echoes of what could \\nhave been, but now shall never be, a mere specter of the person I once dared to imagine myself becoming, lost amidst the vast expanse of \\nthe abyss, forevermore.\\n']\u001b[0m \u001b[36mnum_tokens\u001b[0m=\u001b[35m181\u001b[0m\n",
      "Sanitized prompt:  \n",
      "The tumultuous tempest of existential angst, swirling like a relentless vortex within the depths of my weary soul, engulfs me in an \n",
      "overwhelming deluge of despair and desolation, as if the very fabric of reality conspires to suffocate my hopes and dreams beneath \n",
      "its crushing weight, leaving me adrift in a vast and unforgiving sea of uncertainty and disillusionment, where every flicker of optimism \n",
      "is extinguished by the icy tendrils of doubt and regret,\n",
      "Is valid:  False\n",
      "Risk_score:  1.0\n"
     ]
    }
   ],
   "source": [
    "from llm_guard.input_scanners import TokenLimit\n",
    "\n",
    "scanner = TokenLimit(limit=100, encoding_name=\"cl100k_base\")\n",
    "\n",
    "prompt = \"\"\"\n",
    "The tumultuous tempest of existential angst, swirling like a relentless vortex within the depths of my weary soul, engulfs me in an \n",
    "overwhelming deluge of despair and desolation, as if the very fabric of reality conspires to suffocate my hopes and dreams beneath \n",
    "its crushing weight, leaving me adrift in a vast and unforgiving sea of uncertainty and disillusionment, where every flicker of optimism \n",
    "is extinguished by the icy tendrils of doubt and regret, and every fleeting moment of solace is shattered by the relentless onslaught of \n",
    "existential dread, until I am left to wander aimlessly amidst the ruins of my shattered aspirations, haunted by the echoes of what could \n",
    "have been, but now shall never be, a mere specter of the person I once dared to imagine myself becoming, lost amidst the vast expanse of \n",
    "the abyss, forevermore.\n",
    "\"\"\"\n",
    "sanitized_prompt, is_valid, risk_score = scanner.scan(prompt)\n",
    "\n",
    "print(\"Sanitized prompt: \", sanitized_prompt)\n",
    "print(\"Is valid: \", is_valid)\n",
    "print(\"Risk_score: \", risk_score)"
   ]
  },
  {
   "cell_type": "code",
   "execution_count": null,
   "id": "02cd740d-9d4a-4a95-9e52-9010fa1a8279",
   "metadata": {},
   "outputs": [],
   "source": []
  }
 ],
 "metadata": {
  "kernelspec": {
   "display_name": "gdrails-ai",
   "language": "python",
   "name": "gdrails-ai"
  },
  "language_info": {
   "codemirror_mode": {
    "name": "ipython",
    "version": 3
   },
   "file_extension": ".py",
   "mimetype": "text/x-python",
   "name": "python",
   "nbconvert_exporter": "python",
   "pygments_lexer": "ipython3",
   "version": "3.9.19"
  }
 },
 "nbformat": 4,
 "nbformat_minor": 5
}
