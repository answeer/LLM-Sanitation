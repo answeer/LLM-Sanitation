{
 "cells": [
  {
   "cell_type": "code",
   "execution_count": 1,
   "id": "789c67d6",
   "metadata": {},
   "outputs": [
    {
     "name": "stdout",
     "output_type": "stream",
     "text": [
      "\u001b[2m2024-04-24 11:52:57\u001b[0m [\u001b[33m\u001b[1mwarning  \u001b[0m] \u001b[1mPattern was detected in the text\u001b[0m \u001b[36mpattern\u001b[0m=\u001b[35mre.compile('Bearer [A-Za-z0-9-._~+/]+')\u001b[0m\n",
      "Sanitized prompt:  \n",
      "[REDACTED]!\n",
      "\n",
      "Is valid:  False\n",
      "Risk_score:  1.0\n"
     ]
    }
   ],
   "source": [
    "from llm_guard.input_scanners import Regex\n",
    "from llm_guard.input_scanners.regex import MatchType\n",
    "\n",
    "# Initialize the Regex scanner\n",
    "scanner = Regex(\n",
    "    patterns=[r\"Bearer [A-Za-z0-9-._~+/]+\"],  # List of regex patterns\n",
    "    is_blocked=True,  # If True, patterns are treated as 'bad'; if False, as 'good'\n",
    "    match_type=MatchType.SEARCH,  # Can be SEARCH or FULL_MATCH\n",
    "    redact=True,  # Enable or disable redaction\n",
    ")\n",
    "\n",
    "# Scan a prompt\n",
    "prompt = \"\"\"\n",
    "Bearer ssdf._!\n",
    "\"\"\"\n",
    "sanitized_prompt, is_valid, risk_score = scanner.scan(prompt)\n",
    "\n",
    "print(\"Sanitized prompt: \", sanitized_prompt)\n",
    "print(\"Is valid: \", is_valid)\n",
    "print(\"Risk_score: \", risk_score)"
   ]
  },
  {
   "cell_type": "code",
   "execution_count": null,
   "id": "413d432d-46c0-4f3b-84f9-a09661cfbe02",
   "metadata": {},
   "outputs": [],
   "source": []
  }
 ],
 "metadata": {
  "kernelspec": {
   "display_name": "gdrails-ai",
   "language": "python",
   "name": "gdrails-ai"
  },
  "language_info": {
   "codemirror_mode": {
    "name": "ipython",
    "version": 3
   },
   "file_extension": ".py",
   "mimetype": "text/x-python",
   "name": "python",
   "nbconvert_exporter": "python",
   "pygments_lexer": "ipython3",
   "version": "3.9.19"
  }
 },
 "nbformat": 4,
 "nbformat_minor": 5
}
