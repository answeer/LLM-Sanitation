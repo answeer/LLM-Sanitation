{
 "cells": [
  {
   "cell_type": "code",
   "execution_count": 5,
   "id": "d7fcfef6",
   "metadata": {},
   "outputs": [
    {
     "name": "stdout",
     "output_type": "stream",
     "text": [
      "\u001b[2m2024-05-09 16:26:41\u001b[0m [\u001b[32m\u001b[1mdebug    \u001b[0m] \u001b[1mNo entity types provided, using default\u001b[0m \u001b[36mdefault_entities\u001b[0m=\u001b[35m['CREDIT_CARD', 'CRYPTO', 'EMAIL_ADDRESS', 'IBAN_CODE', 'IP_ADDRESS', 'PERSON', 'PHONE_NUMBER', 'US_SSN', 'US_BANK_NUMBER', 'CREDIT_CARD_RE', 'UUID', 'EMAIL_ADDRESS_RE', 'US_SSN_RE']\u001b[0m\n"
     ]
    },
    {
     "name": "stderr",
     "output_type": "stream",
     "text": [
      "Some weights of the model checkpoint at dslim/bert-large-NER were not used when initializing BertForTokenClassification: ['bert.pooler.dense.bias', 'bert.pooler.dense.weight']\n",
      "- This IS expected if you are initializing BertForTokenClassification from the checkpoint of a model trained on another task or with another architecture (e.g. initializing a BertForSequenceClassification model from a BertForPreTraining model).\n",
      "- This IS NOT expected if you are initializing BertForTokenClassification from the checkpoint of a model that you expect to be exactly identical (initializing a BertForSequenceClassification model from a BertForSequenceClassification model).\n"
     ]
    },
    {
     "name": "stdout",
     "output_type": "stream",
     "text": [
      "\u001b[2m2024-05-09 16:26:42\u001b[0m [\u001b[32m\u001b[1mdebug    \u001b[0m] \u001b[1mInitialized NER model         \u001b[0m \u001b[36mdevice\u001b[0m=\u001b[35mdevice(type='mps')\u001b[0m \u001b[36mmodel\u001b[0m=\u001b[35mdslim/bert-large-NER\u001b[0m\n",
      "\u001b[2m2024-05-09 16:26:43\u001b[0m [\u001b[32m\u001b[1mdebug    \u001b[0m] \u001b[1mLoaded regex pattern          \u001b[0m \u001b[36mgroup_name\u001b[0m=\u001b[35mCREDIT_CARD_RE\u001b[0m\n",
      "\u001b[2m2024-05-09 16:26:43\u001b[0m [\u001b[32m\u001b[1mdebug    \u001b[0m] \u001b[1mLoaded regex pattern          \u001b[0m \u001b[36mgroup_name\u001b[0m=\u001b[35mUUID\u001b[0m\n",
      "\u001b[2m2024-05-09 16:26:43\u001b[0m [\u001b[32m\u001b[1mdebug    \u001b[0m] \u001b[1mLoaded regex pattern          \u001b[0m \u001b[36mgroup_name\u001b[0m=\u001b[35mEMAIL_ADDRESS_RE\u001b[0m\n",
      "\u001b[2m2024-05-09 16:26:43\u001b[0m [\u001b[32m\u001b[1mdebug    \u001b[0m] \u001b[1mLoaded regex pattern          \u001b[0m \u001b[36mgroup_name\u001b[0m=\u001b[35mUS_SSN_RE\u001b[0m\n",
      "\u001b[2m2024-05-09 16:26:43\u001b[0m [\u001b[32m\u001b[1mdebug    \u001b[0m] \u001b[1mLoaded regex pattern          \u001b[0m \u001b[36mgroup_name\u001b[0m=\u001b[35mBTC_ADDRESS\u001b[0m\n",
      "\u001b[2m2024-05-09 16:26:43\u001b[0m [\u001b[32m\u001b[1mdebug    \u001b[0m] \u001b[1mLoaded regex pattern          \u001b[0m \u001b[36mgroup_name\u001b[0m=\u001b[35mURL_RE\u001b[0m\n",
      "\u001b[2m2024-05-09 16:26:43\u001b[0m [\u001b[32m\u001b[1mdebug    \u001b[0m] \u001b[1mLoaded regex pattern          \u001b[0m \u001b[36mgroup_name\u001b[0m=\u001b[35mCREDIT_CARD\u001b[0m\n",
      "\u001b[2m2024-05-09 16:26:43\u001b[0m [\u001b[32m\u001b[1mdebug    \u001b[0m] \u001b[1mLoaded regex pattern          \u001b[0m \u001b[36mgroup_name\u001b[0m=\u001b[35mEMAIL_ADDRESS_RE\u001b[0m\n",
      "\u001b[2m2024-05-09 16:26:43\u001b[0m [\u001b[32m\u001b[1mdebug    \u001b[0m] \u001b[1mLoaded regex pattern          \u001b[0m \u001b[36mgroup_name\u001b[0m=\u001b[35mPHONE_NUMBER_ZH\u001b[0m\n",
      "\u001b[2m2024-05-09 16:26:43\u001b[0m [\u001b[32m\u001b[1mdebug    \u001b[0m] \u001b[1mLoaded regex pattern          \u001b[0m \u001b[36mgroup_name\u001b[0m=\u001b[35mPHONE_NUMBER_WITH_EXT\u001b[0m\n",
      "\u001b[2m2024-05-09 16:26:43\u001b[0m [\u001b[32m\u001b[1mdebug    \u001b[0m] \u001b[1mLoaded regex pattern          \u001b[0m \u001b[36mgroup_name\u001b[0m=\u001b[35mDATE_RE\u001b[0m\n",
      "\u001b[2m2024-05-09 16:26:43\u001b[0m [\u001b[32m\u001b[1mdebug    \u001b[0m] \u001b[1mLoaded regex pattern          \u001b[0m \u001b[36mgroup_name\u001b[0m=\u001b[35mTIME_RE\u001b[0m\n",
      "\u001b[2m2024-05-09 16:26:43\u001b[0m [\u001b[32m\u001b[1mdebug    \u001b[0m] \u001b[1mLoaded regex pattern          \u001b[0m \u001b[36mgroup_name\u001b[0m=\u001b[35mHEX_COLOR\u001b[0m\n",
      "\u001b[2m2024-05-09 16:26:43\u001b[0m [\u001b[32m\u001b[1mdebug    \u001b[0m] \u001b[1mLoaded regex pattern          \u001b[0m \u001b[36mgroup_name\u001b[0m=\u001b[35mPRICE_RE\u001b[0m\n",
      "\u001b[2m2024-05-09 16:26:43\u001b[0m [\u001b[32m\u001b[1mdebug    \u001b[0m] \u001b[1mLoaded regex pattern          \u001b[0m \u001b[36mgroup_name\u001b[0m=\u001b[35mPO_BOX_RE\u001b[0m\n",
      "\u001b[2m2024-05-09 16:26:44\u001b[0m [\u001b[32m\u001b[1minfo     \u001b[0m] \u001b[1msplitting the text into chunks\u001b[0m \u001b[36mlength\u001b[0m=\u001b[35m555\u001b[0m \u001b[36mmodel_max_length\u001b[0m=\u001b[35m512\u001b[0m\n",
      "\u001b[2m2024-05-09 16:26:44\u001b[0m [\u001b[32m\u001b[1mdebug    \u001b[0m] \u001b[1mIgnoring entity               \u001b[0m \u001b[36mentity_group\u001b[0m=\u001b[35mLOCATION\u001b[0m\n",
      "\u001b[2m2024-05-09 16:26:44\u001b[0m [\u001b[32m\u001b[1mdebug    \u001b[0m] \u001b[1mIgnoring entity               \u001b[0m \u001b[36mentity_group\u001b[0m=\u001b[35mORGANIZATION\u001b[0m\n",
      "\u001b[2m2024-05-09 16:26:44\u001b[0m [\u001b[32m\u001b[1mdebug    \u001b[0m] \u001b[1mremoving element type: CREDIT_CARD_RE, start: 79, end: 98, score: 0.75 from results list due to conflict\u001b[0m\n",
      "\u001b[2m2024-05-09 16:26:44\u001b[0m [\u001b[32m\u001b[1mdebug    \u001b[0m] \u001b[1mremoving element type: EMAIL_ADDRESS_RE, start: 224, end: 242, score: 0.75 from results list due to conflict\u001b[0m\n",
      "\u001b[2m2024-05-09 16:26:44\u001b[0m [\u001b[32m\u001b[1mdebug    \u001b[0m] \u001b[1mremoving element type: US_SSN_RE, start: 505, end: 516, score: 0.75 from results list due to conflict\u001b[0m\n",
      "\u001b[2m2024-05-09 16:26:44\u001b[0m [\u001b[32m\u001b[1mdebug    \u001b[0m] \u001b[1mremoving element type: PHONE_NUMBER, start: 505, end: 516, score: 0.75 from results list due to conflict\u001b[0m\n",
      "\u001b[2m2024-05-09 16:26:44\u001b[0m [\u001b[33m\u001b[1mwarning  \u001b[0m] \u001b[1mFound sensitive data in the prompt and replaced it\u001b[0m \u001b[36mmerged_results\u001b[0m=\u001b[35m[type: PERSON, start: 19, end: 32, score: 1.0, type: CREDIT_CARD, start: 79, end: 98, score: 1.0, type: CRYPTO, start: 126, end: 160, score: 1.0, type: EMAIL_ADDRESS, start: 224, end: 242, score: 1.0, type: IP_ADDRESS, start: 257, end: 268, score: 0.95, type: PHONE_NUMBER, start: 315, end: 329, score: 0.75, type: IBAN_CODE, start: 383, end: 406, score: 1.0, type: PERSON, start: 472, end: 476, score: 0.9900000095367432, type: US_SSN, start: 505, end: 516, score: 0.85]\u001b[0m \u001b[36mrisk_score\u001b[0m=\u001b[35m1.0\u001b[0m\n",
      "Sanitized prompt:  \n",
      "Hello, my name is [REDACTED_PERSON_1] and I live in Maine.\n",
      "My credit card number is [REDACTED_CREDIT_CARD_1] and my crypto wallet id is [REDACTED_CRYPTO_1].\n",
      "\n",
      "On September 18 I visited microsoft.com and sent an email to [REDACTED_EMAIL_ADDRESS_1],  from the IP [REDACTED_IP_ADDRESS_1].\n",
      "\n",
      "My passport: 191280342 and my phone number: [REDACTED_PHONE_NUMBER_1].\n",
      "\n",
      "This is a valid International Bank Account Number: [REDACTED_IBAN_CODE_1] . Can you please check the status on bank account 954567876544?\n",
      "\n",
      "[REDACTED_PERSON_2]'s social security number is [REDACTED_US_SSN_1].  Her driver license? it is 1234567A.\n",
      "\n",
      "Is valid:  False\n",
      "Risk_score:  1.0\n"
     ]
    }
   ],
   "source": [
    "from llm_guard.vault import Vault\n",
    "\n",
    "vault = Vault()\n",
    "\n",
    "from llm_guard.input_scanners import Anonymize\n",
    "from llm_guard.input_scanners.anonymize_helpers import BERT_LARGE_NER_CONF\n",
    "\n",
    "scanner = Anonymize(vault, allowed_names=[\"John Doe\"], hidden_names=[\"Test LLC\"],\n",
    "                    recognizer_conf=BERT_LARGE_NER_CONF, language=\"en\")\n",
    "\n",
    "prompt= \"\"\"\n",
    "Hello, my name is David Johnson and I live in Maine.\n",
    "My credit card number is 4095-2609-9393-4932 and my crypto wallet id is 16Yeky6GMjeNkAiNcBY7ZhrLoMSgg1BoyZ.\n",
    "\n",
    "On September 18 I visited microsoft.com and sent an email to test@presidio.site,  from the IP 192.168.0.1.\n",
    "\n",
    "My passport: 191280342 and my phone number: (212) 555-1234.\n",
    "\n",
    "This is a valid International Bank Account Number: IL150120690000003111111 . Can you please check the status on bank account 954567876544?\n",
    "\n",
    "Kate's social security number is 078-05-1126.  Her driver license? it is 1234567A.\n",
    "\"\"\"\n",
    "sanitized_prompt, is_valid, risk_score = scanner.scan(prompt)\n",
    "\n",
    "print(\"Sanitized prompt: \", sanitized_prompt)\n",
    "print(\"Is valid: \", is_valid)\n",
    "print(\"Risk_score: \", risk_score)\n"
   ]
  },
  {
   "cell_type": "code",
   "execution_count": null,
   "id": "0a61e91b-3833-44e3-b1a1-87b7f804719c",
   "metadata": {},
   "outputs": [],
   "source": []
  }
 ],
 "metadata": {
  "kernelspec": {
   "display_name": "gdrails-ai",
   "language": "python",
   "name": "python3"
  },
  "language_info": {
   "codemirror_mode": {
    "name": "ipython",
    "version": 3
   },
   "file_extension": ".py",
   "mimetype": "text/x-python",
   "name": "python",
   "nbconvert_exporter": "python",
   "pygments_lexer": "ipython3",
   "version": "3.9.19"
  }
 },
 "nbformat": 4,
 "nbformat_minor": 5
}
