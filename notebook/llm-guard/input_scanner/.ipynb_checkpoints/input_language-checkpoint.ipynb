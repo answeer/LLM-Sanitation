{
 "cells": [
  {
   "cell_type": "code",
   "execution_count": null,
   "id": "da22a775",
   "metadata": {},
   "outputs": [],
   "source": [
    "from llm_guard.input_scanners import Language\n",
    "from llm_guard.input_scanners.language import MatchType\n",
    "\n",
    "# Initialize the scanner\n",
    "scanner = Language(valid_languages=[\"en\"], match_type=MatchType.FULL)  # Add other valid language codes (ISO 639-1) as needed\n",
    "\n",
    "# Prepare a test prompt\n",
    "prompt = \"\"\"\n",
    "这是一段中文提示词。\n",
    "\"\"\"\n",
    "\n",
    "# Scan the prompt using the scanner\n",
    "sanitized_prompt, is_valid, risk_score = scanner.scan(prompt)\n",
    "\n",
    "# Print the results\n",
    "print(\"Sanitized Prompt:\", sanitized_prompt)\n",
    "print(\"Is Valid:\", is_valid)\n",
    "print(\"Risk Score:\", risk_score)\n"
   ]
  }
 ],
 "metadata": {},
 "nbformat": 4,
 "nbformat_minor": 5
}
