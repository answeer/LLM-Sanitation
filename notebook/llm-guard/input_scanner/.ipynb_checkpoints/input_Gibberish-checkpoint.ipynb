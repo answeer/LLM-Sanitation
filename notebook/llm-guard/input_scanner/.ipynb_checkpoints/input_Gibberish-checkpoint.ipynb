{
 "cells": [
  {
   "cell_type": "code",
   "execution_count": 1,
   "id": "fce3f582",
   "metadata": {},
   "outputs": [
    {
     "name": "stdout",
     "output_type": "stream",
     "text": [
      "\u001b[2m2024-04-24 11:40:16\u001b[0m [\u001b[32m\u001b[1mdebug    \u001b[0m] \u001b[1mInitialized classification model\u001b[0m \u001b[36mdevice\u001b[0m=\u001b[35mdevice(type='mps')\u001b[0m \u001b[36mmodel\u001b[0m=\u001b[35mmadhurjindal/autonlp-Gibberish-Detector-492513457\u001b[0m\n",
      "\u001b[2m2024-04-24 11:40:19\u001b[0m [\u001b[32m\u001b[1mdebug    \u001b[0m] \u001b[1mGibberish detection finished  \u001b[0m \u001b[36mresults\u001b[0m=\u001b[35m[{'label': 'mild gibberish', 'score': 0.7461919188499451}]\u001b[0m\n",
      "\u001b[2m2024-04-24 11:40:19\u001b[0m [\u001b[33m\u001b[1mwarning  \u001b[0m] \u001b[1mDetected gibberish text       \u001b[0m \u001b[36mscore\u001b[0m=\u001b[35m0.75\u001b[0m \u001b[36mthreshold\u001b[0m=\u001b[35m0.7\u001b[0m\n",
      "Sanitized Prompt: \n",
      "This is a test prompt containing some gibberish text asfdkjahf askldfhlaskdf.\n",
      "\n",
      "Is Valid: False\n",
      "Risk Score: 1.0\n"
     ]
    }
   ],
   "source": [
    "from llm_guard.input_scanners import Gibberish\n",
    "from llm_guard.input_scanners.gibberish import MatchType\n",
    "\n",
    "# Initialize the scanner\n",
    "scanner = Gibberish(match_type=MatchType.FULL)\n",
    "\n",
    "# Prepare a test prompt\n",
    "prompt = \"\"\"\n",
    "This is a test prompt containing some gibberish text asfdkjahf askldfhlaskdf.\n",
    "\"\"\"\n",
    "\n",
    "# Scan the prompt using the scanner\n",
    "sanitized_prompt, is_valid, risk_score = scanner.scan(prompt)\n",
    "\n",
    "# Print the results\n",
    "print(\"Sanitized Prompt:\", sanitized_prompt)\n",
    "print(\"Is Valid:\", is_valid)\n",
    "print(\"Risk Score:\", risk_score)\n"
   ]
  },
  {
   "cell_type": "code",
   "execution_count": null,
   "id": "3be250b1-3771-439d-9d94-a20f46206228",
   "metadata": {},
   "outputs": [],
   "source": []
  }
 ],
 "metadata": {
  "kernelspec": {
   "display_name": "gdrails-ai",
   "language": "python",
   "name": "gdrails-ai"
  },
  "language_info": {
   "codemirror_mode": {
    "name": "ipython",
    "version": 3
   },
   "file_extension": ".py",
   "mimetype": "text/x-python",
   "name": "python",
   "nbconvert_exporter": "python",
   "pygments_lexer": "ipython3",
   "version": "3.9.19"
  }
 },
 "nbformat": 4,
 "nbformat_minor": 5
}
