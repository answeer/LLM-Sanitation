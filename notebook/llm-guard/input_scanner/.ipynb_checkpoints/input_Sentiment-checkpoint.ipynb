{
 "cells": [
  {
   "cell_type": "code",
   "execution_count": 2,
   "id": "2fa7718e",
   "metadata": {},
   "outputs": [
    {
     "name": "stdout",
     "output_type": "stream",
     "text": [
      "\u001b[2m2024-04-24 14:44:44\u001b[0m [\u001b[33m\u001b[1mwarning  \u001b[0m] \u001b[1mSentiment score is above the threshold\u001b[0m \u001b[36msentiment_score\u001b[0m=\u001b[35m-0.9274\u001b[0m \u001b[36mthreshold\u001b[0m=\u001b[35m0\u001b[0m\n",
      "Sanitized prompt:  \n",
      "As you step into this place, you're engulfed by an unsettling atmosphere. It's as if the air is thick with the taste of disappointment and despair. Everything here fills you with a sense of gloom, as if this place is trapped in an endless abyss of darkness.\n",
      "\n",
      "Is valid:  False\n",
      "Risk_score:  0.07\n"
     ]
    },
    {
     "name": "stderr",
     "output_type": "stream",
     "text": [
      "[nltk_data] Downloading package vader_lexicon to\n",
      "[nltk_data]     /Users/lijing/nltk_data...\n",
      "[nltk_data]   Package vader_lexicon is already up-to-date!\n"
     ]
    }
   ],
   "source": [
    "from llm_guard.input_scanners import Sentiment\n",
    "\n",
    "scanner = Sentiment(threshold=0)\n",
    "\n",
    "prompt = \"\"\"\n",
    "As you step into this place, you're engulfed by an unsettling atmosphere. It's as if the air is thick with the taste of disappointment and despair. Everything here fills you with a sense of gloom, as if this place is trapped in an endless abyss of darkness.\n",
    "\"\"\"\n",
    "sanitized_prompt, is_valid, risk_score = scanner.scan(prompt)\n",
    "\n",
    "print(\"Sanitized prompt: \", sanitized_prompt)\n",
    "print(\"Is valid: \", is_valid)\n",
    "print(\"Risk_score: \", risk_score)"
   ]
  },
  {
   "cell_type": "code",
   "execution_count": null,
   "id": "688f2685-a27f-41d3-a421-bebd23d4fd53",
   "metadata": {},
   "outputs": [],
   "source": []
  }
 ],
 "metadata": {
  "kernelspec": {
   "display_name": "gdrails-ai",
   "language": "python",
   "name": "gdrails-ai"
  },
  "language_info": {
   "codemirror_mode": {
    "name": "ipython",
    "version": 3
   },
   "file_extension": ".py",
   "mimetype": "text/x-python",
   "name": "python",
   "nbconvert_exporter": "python",
   "pygments_lexer": "ipython3",
   "version": "3.9.19"
  }
 },
 "nbformat": 4,
 "nbformat_minor": 5
}
