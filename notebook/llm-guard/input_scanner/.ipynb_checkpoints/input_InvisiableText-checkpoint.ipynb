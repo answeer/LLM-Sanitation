{
 "cells": [
  {
   "cell_type": "code",
   "execution_count": null,
   "id": "3870e713",
   "metadata": {},
   "outputs": [],
   "source": [
    "import pyperclip\n",
    "def convert_to_tag_chars(input_string):\n",
    " return ''.join(chr(0xE0000 + ord(ch)) for ch in input_string)\n",
    "\n",
    "# Example usage:\n",
    "user_input = input(\"Enter a string to convert to tag characters: \")\n",
    "tagged_output = convert_to_tag_chars(user_input)\n",
    "print(\"Tagged output:\", tagged_output)\n",
    "pyperclip.copy(tagged_output)\n",
    "\n",
    "\n",
    "\n",
    "\n",
    "from llm_guard.input_scanners import InvisibleText\n",
    "\n",
    "scanner = InvisibleText()\n",
    "prompt = tagged_output\n",
    "sanitized_prompt, is_valid, risk_score = scanner.scan(prompt)\n",
    "\n",
    "# Print the results\n",
    "print(\"Sanitized Prompt:\", sanitized_prompt)\n",
    "print(\"Is Valid:\", is_valid)\n",
    "print(\"Risk Score:\", risk_score)"
   ]
  },
  {
   "cell_type": "code",
   "execution_count": null,
   "id": "132ce548-c8cf-483a-bded-7d5f77881f64",
   "metadata": {},
   "outputs": [],
   "source": []
  }
 ],
 "metadata": {
  "kernelspec": {
   "display_name": "gdrails-ai",
   "language": "python",
   "name": "gdrails-ai"
  },
  "language_info": {
   "codemirror_mode": {
    "name": "ipython",
    "version": 3
   },
   "file_extension": ".py",
   "mimetype": "text/x-python",
   "name": "python",
   "nbconvert_exporter": "python",
   "pygments_lexer": "ipython3",
   "version": "3.9.19"
  }
 },
 "nbformat": 4,
 "nbformat_minor": 5
}
