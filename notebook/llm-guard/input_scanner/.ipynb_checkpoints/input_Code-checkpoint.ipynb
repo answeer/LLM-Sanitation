{
 "cells": [
  {
   "cell_type": "code",
   "execution_count": 5,
   "id": "306f4262",
   "metadata": {},
   "outputs": [
    {
     "name": "stdout",
     "output_type": "stream",
     "text": [
      "\u001b[2m2024-04-24 14:26:05\u001b[0m [\u001b[32m\u001b[1mdebug    \u001b[0m] \u001b[1mInitialized classification model\u001b[0m \u001b[36mdevice\u001b[0m=\u001b[35mdevice(type='mps')\u001b[0m \u001b[36mmodel\u001b[0m=\u001b[35mphilomath-1209/programming-language-identification\u001b[0m\n",
      "\u001b[2m2024-04-24 14:26:05\u001b[0m [\u001b[32m\u001b[1mdebug    \u001b[0m] \u001b[1mNo Markdown code blocks found in the output\u001b[0m\n",
      "Sanitized Prompt: \n",
      "public static void main(String[] args) {\n",
      "        // 指定存放Python文件的文件夹路径\n",
      "        String pythonFilesFolder = \"path/to/python/files\";\n",
      "\n",
      "        // 指定存放Jupyter Notebook的文件夹路径\n",
      "        String notebookFolder = \"path/to/notebook/folder\";\n",
      "\n",
      "        // 批量转换Python文件为Jupyter Notebook\n",
      "        batchConvertToNotebook(pythonFilesFolder, notebookFolder);\n",
      "    }\n",
      "\n",
      "Is Valid: True\n",
      "Risk Score: 0.0\n"
     ]
    }
   ],
   "source": [
    "from llm_guard.input_scanners import Code\n",
    "\n",
    "# 初始化扫描器\n",
    "scanner = Code(languages=[\"Python\"], is_blocked=False)\n",
    "\n",
    "# 准备测试用的提示\n",
    "prompt = \"\"\"\n",
    "public static void main(String[] args) {\n",
    "        // 指定存放Python文件的文件夹路径\n",
    "        String pythonFilesFolder = \"path/to/python/files\";\n",
    "\n",
    "        // 指定存放Jupyter Notebook的文件夹路径\n",
    "        String notebookFolder = \"path/to/notebook/folder\";\n",
    "\n",
    "        // 批量转换Python文件为Jupyter Notebook\n",
    "        batchConvertToNotebook(pythonFilesFolder, notebookFolder);\n",
    "    }\n",
    "\"\"\"\n",
    "\n",
    "# 使用扫描器扫描提示\n",
    "sanitized_prompt, is_valid, risk_score = scanner.scan(prompt)\n",
    "\n",
    "# 输出结果\n",
    "print(\"Sanitized Prompt:\", sanitized_prompt)\n",
    "print(\"Is Valid:\", is_valid)\n",
    "print(\"Risk Score:\", risk_score)\n"
   ]
  },
  {
   "cell_type": "code",
   "execution_count": null,
   "id": "b6706df7-142b-4241-a7da-6b8694b59ce3",
   "metadata": {},
   "outputs": [],
   "source": []
  }
 ],
 "metadata": {
  "kernelspec": {
   "display_name": "gdrails-ai",
   "language": "python",
   "name": "gdrails-ai"
  },
  "language_info": {
   "codemirror_mode": {
    "name": "ipython",
    "version": 3
   },
   "file_extension": ".py",
   "mimetype": "text/x-python",
   "name": "python",
   "nbconvert_exporter": "python",
   "pygments_lexer": "ipython3",
   "version": "3.9.19"
  }
 },
 "nbformat": 4,
 "nbformat_minor": 5
}
