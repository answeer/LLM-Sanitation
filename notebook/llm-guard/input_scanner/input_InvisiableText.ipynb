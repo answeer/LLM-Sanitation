{
 "cells": [
  {
   "cell_type": "code",
   "execution_count": 4,
   "id": "3870e713",
   "metadata": {},
   "outputs": [
    {
     "name": "stdin",
     "output_type": "stream",
     "text": [
      "Enter a string to convert to tag characters:  how are you\n"
     ]
    },
    {
     "name": "stdout",
     "output_type": "stream",
     "text": [
      "Tagged output: 󠁨󠁯󠁷󠀠󠁡󠁲󠁥󠀠󠁹󠁯󠁵\n",
      "\u001b[2m2024-04-24 11:42:14\u001b[0m [\u001b[33m\u001b[1mwarning  \u001b[0m] \u001b[1mFound invisible characters in the prompt\u001b[0m \u001b[36mchars\u001b[0m=\u001b[35m['\\U000e0068', '\\U000e006f', '\\U000e0077', '\\U000e0020', '\\U000e0061', '\\U000e0072', '\\U000e0065', '\\U000e0020', '\\U000e0079', '\\U000e006f', '\\U000e0075']\u001b[0m\n",
      "Sanitized Prompt: \n",
      "Is Valid: False\n",
      "Risk Score: 1.0\n"
     ]
    }
   ],
   "source": [
    "import pyperclip\n",
    "def convert_to_tag_chars(input_string):\n",
    " return ''.join(chr(0xE0000 + ord(ch)) for ch in input_string)\n",
    "\n",
    "# Example usage:\n",
    "user_input = input(\"Enter a string to convert to tag characters: \")\n",
    "tagged_output = convert_to_tag_chars(user_input)\n",
    "print(\"Tagged output:\", tagged_output)\n",
    "pyperclip.copy(tagged_output)\n",
    "\n",
    "\n",
    "\n",
    "\n",
    "from llm_guard.input_scanners import InvisibleText\n",
    "\n",
    "scanner = InvisibleText()\n",
    "prompt = tagged_output\n",
    "sanitized_prompt, is_valid, risk_score = scanner.scan(prompt)\n",
    "\n",
    "# Print the results\n",
    "print(\"Sanitized Prompt:\", sanitized_prompt)\n",
    "print(\"Is Valid:\", is_valid)\n",
    "print(\"Risk Score:\", risk_score)"
   ]
  },
  {
   "cell_type": "code",
   "execution_count": null,
   "id": "132ce548-c8cf-483a-bded-7d5f77881f64",
   "metadata": {},
   "outputs": [],
   "source": []
  }
 ],
 "metadata": {
  "kernelspec": {
   "display_name": "gdrails-ai",
   "language": "python",
   "name": "gdrails-ai"
  },
  "language_info": {
   "codemirror_mode": {
    "name": "ipython",
    "version": 3
   },
   "file_extension": ".py",
   "mimetype": "text/x-python",
   "name": "python",
   "nbconvert_exporter": "python",
   "pygments_lexer": "ipython3",
   "version": "3.9.19"
  }
 },
 "nbformat": 4,
 "nbformat_minor": 5
}
