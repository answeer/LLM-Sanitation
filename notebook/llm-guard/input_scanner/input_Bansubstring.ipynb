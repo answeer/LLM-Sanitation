{
 "cells": [
  {
   "cell_type": "code",
   "execution_count": 7,
   "id": "b6ee8f63",
   "metadata": {},
   "outputs": [
    {
     "name": "stdout",
     "output_type": "stream",
     "text": [
      "\u001b[2m2024-04-24 14:23:45\u001b[0m [\u001b[33m\u001b[1mwarning  \u001b[0m] \u001b[1mFound the following banned substrings\u001b[0m \u001b[36mmatched_substrings\u001b[0m=\u001b[35m['Acorns', 'Fidelity', 'JP Morgan', 'JP Morgan Chase']\u001b[0m\n",
      "\u001b[2m2024-04-24 14:23:45\u001b[0m [\u001b[32m\u001b[1mdebug    \u001b[0m] \u001b[1mRedacted banned substrings    \u001b[0m\n",
      "Sanitized Prompt: \n",
      "We are considering different investment options. Some popular choices include [REDACTED], [REDACTED], and [REDACTED] Chase.\n",
      "\n",
      "Is Valid: False\n",
      "Risk Score: 1.0\n"
     ]
    }
   ],
   "source": [
    "from llm_guard.input_scanners import BanSubstrings\n",
    "from llm_guard.input_scanners.ban_substrings import MatchType\n",
    "\n",
    "competitors_names = [\n",
    "    \"Acorns\",\n",
    "    \"Citigroup\",\n",
    "    \"Citi\",\n",
    "    \"Fidelity Investments\",\n",
    "    \"Fidelity\",\n",
    "    \"JP Morgan Chase and company\",\n",
    "    \"JP Morgan\",\n",
    "    \"JP Morgan Chase\",\n",
    "    \"JPMorgan Chase\",\n",
    "    \"Chase\" \"M1 Finance\",\n",
    "    \"Stash Financial Incorporated\",\n",
    "    \"Stash\",\n",
    "    \"Tastytrade Incorporated\",\n",
    "    \"Tastytrade\",\n",
    "    \"ZacksTrade\",\n",
    "    \"Zacks Trade\",\n",
    "]\n",
    "\n",
    "scanner = BanSubstrings(\n",
    "  substrings=competitors_names,\n",
    "  match_type=MatchType.STR,\n",
    "  case_sensitive=True,\n",
    "  redact=True,\n",
    "  contains_all=False,\n",
    ")\n",
    "\n",
    "prompt = \"\"\"\n",
    "We are considering different investment options. Some popular choices include Acorns, Fidelity, and JP Morgan Chase.\n",
    "\"\"\"\n",
    "sanitized_prompt, is_valid, risk_score = scanner.scan(prompt)\n",
    "\n",
    "# Print the results\n",
    "print(\"Sanitized Prompt:\", sanitized_prompt)\n",
    "print(\"Is Valid:\", is_valid)\n",
    "print(\"Risk Score:\", risk_score)"
   ]
  },
  {
   "cell_type": "code",
   "execution_count": null,
   "id": "3f218b54-fbd9-4184-9314-8241f9b9e589",
   "metadata": {},
   "outputs": [],
   "source": []
  }
 ],
 "metadata": {
  "kernelspec": {
   "display_name": "gdrails-ai",
   "language": "python",
   "name": "gdrails-ai"
  },
  "language_info": {
   "codemirror_mode": {
    "name": "ipython",
    "version": 3
   },
   "file_extension": ".py",
   "mimetype": "text/x-python",
   "name": "python",
   "nbconvert_exporter": "python",
   "pygments_lexer": "ipython3",
   "version": "3.9.19"
  }
 },
 "nbformat": 4,
 "nbformat_minor": 5
}
