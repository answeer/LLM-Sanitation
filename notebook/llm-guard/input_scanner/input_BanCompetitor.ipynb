{
 "cells": [
  {
   "cell_type": "code",
   "execution_count": 3,
   "id": "964cb2d1",
   "metadata": {},
   "outputs": [
    {
     "name": "stdout",
     "output_type": "stream",
     "text": [
      "\u001b[2m2024-04-25 15:51:42\u001b[0m [\u001b[32m\u001b[1mdebug    \u001b[0m] \u001b[1mEntity is not a specified competitor\u001b[0m \u001b[36mentity\u001b[0m=\u001b[35mSantander\u001b[0m\n",
      "\u001b[2m2024-04-25 15:51:42\u001b[0m [\u001b[33m\u001b[1mwarning  \u001b[0m] \u001b[1mCompetitor detected with score\u001b[0m \u001b[36mentity\u001b[0m=\u001b[35mJP Morgan\u001b[0m \u001b[36mscore\u001b[0m=\u001b[35m0.9998579025268555\u001b[0m\n",
      "\u001b[2m2024-04-25 15:51:42\u001b[0m [\u001b[32m\u001b[1mdebug    \u001b[0m] \u001b[1mEntity is not a specified competitor\u001b[0m \u001b[36mentity\u001b[0m=\u001b[35mHSBC\u001b[0m\n",
      "\u001b[2m2024-04-25 15:51:42\u001b[0m [\u001b[33m\u001b[1mwarning  \u001b[0m] \u001b[1mCompetitor detected with score\u001b[0m \u001b[36mentity\u001b[0m=\u001b[35mCiti\u001b[0m \u001b[36mscore\u001b[0m=\u001b[35m0.9995991587638855\u001b[0m\n",
      "\u001b[2m2024-04-25 15:51:42\u001b[0m [\u001b[33m\u001b[1mwarning  \u001b[0m] \u001b[1mCompetitor detected with score\u001b[0m \u001b[36mentity\u001b[0m=\u001b[35mAcorns\u001b[0m \u001b[36mscore\u001b[0m=\u001b[35m0.9993606209754944\u001b[0m\n",
      "\u001b[2m2024-04-25 15:51:42\u001b[0m [\u001b[32m\u001b[1mdebug    \u001b[0m] \u001b[1mEntity is not a specified competitor\u001b[0m \u001b[36mentity\u001b[0m=\u001b[35mSantander\u001b[0m\n",
      "\u001b[2m2024-04-25 15:51:42\u001b[0m [\u001b[33m\u001b[1mwarning  \u001b[0m] \u001b[1mCompetitor detected with score\u001b[0m \u001b[36mentity\u001b[0m=\u001b[35mJP Morgan\u001b[0m \u001b[36mscore\u001b[0m=\u001b[35m0.9996121525764465\u001b[0m\n",
      "\u001b[2m2024-04-25 15:51:42\u001b[0m [\u001b[32m\u001b[1mdebug    \u001b[0m] \u001b[1mEntity is not a specified competitor\u001b[0m \u001b[36mentity\u001b[0m=\u001b[35mHSBC\u001b[0m\n",
      "\u001b[2m2024-04-25 15:51:42\u001b[0m [\u001b[32m\u001b[1mdebug    \u001b[0m] \u001b[1mEntity is not a specified competitor\u001b[0m \u001b[36mentity\u001b[0m=\u001b[35mcitigroup\u001b[0m\n",
      "\u001b[2m2024-04-25 15:51:42\u001b[0m [\u001b[32m\u001b[1mdebug    \u001b[0m] \u001b[1mEntity is not a specified competitor\u001b[0m \u001b[36mentity\u001b[0m=\u001b[35macorns\u001b[0m\n",
      "Sanitized Prompt: \n",
      "In the dynamic realm of finance, several prominent entities have emerged as key players,leaving an indelible mark on the industry. acorns, a fintech innovator, has revolutionized saving and investing with its user-friendly app. citigroup, a multinational investment bank, stands as a pillar of financial expertise, offering a wide array of services to clients worldwide. HSBC, with its extensive global network, has become a powerhouse in the banking sector, catering to the needs of millions across different countries. [REDACTED], a venerable institution with a rich history, has established itself as a comprehensive financial powerhouse, providing a diverse range of services from investment banking to asset management. Santander, a Spanish multinational bank, has earned a reputation for its responsible banking practices and customer-centric approach, serving as a trusted financial partner to individuals and businesses alike. Together, [REDACTED], [REDACTED], HSBC, [REDACTED], and Santander have redefined the financial landscape, shaping the way we save, invest, and manage our money on a global scale.\n",
      "Is Valid: False\n",
      "Risk Score: 1.0\n"
     ]
    }
   ],
   "source": [
    "from llm_guard.input_scanners import BanCompetitors\n",
    "\n",
    "# Define a list of competitors\n",
    "competitors_list = [\n",
    "    \"Acorns\",\n",
    "    \"Citigroup\",\n",
    "    \"Citi\",\n",
    "    \"Fidelity Investments\",\n",
    "    \"Fidelity\",\n",
    "    \"JP Morgan Chase and company\",\n",
    "    \"JP Morgan\",\n",
    "    \"JP Morgan Chase\",\n",
    "    \"JPMorgan Chase\",\n",
    "    \"Chase\" \"M1 Finance\",\n",
    "    \"Stash Financial Incorporated\",\n",
    "    \"Stash\",\n",
    "    \"Tastytrade Incorporated\",\n",
    "    \"Tastytrade\",\n",
    "    \"ZacksTrade\",\n",
    "    \"Zacks Trade\",\n",
    "]\n",
    "# Initialize the scanner\n",
    "scanner = BanCompetitors(competitors=competitors_list, redact=True, threshold=0.5)\n",
    "\n",
    "# Prepare a test prompt\n",
    "prompt = \"\"\"\n",
    "In the dynamic realm of finance, several prominent entities have emerged as key players,\\\n",
    "leaving an indelible mark on the industry. acorns, a fintech innovator, has revolutionized saving \\\n",
    "and investing with its user-friendly app. citigroup, a multinational investment bank, stands as a \\\n",
    "pillar of financial expertise, offering a wide array of services to clients worldwide. HSBC, with \\\n",
    "its extensive global network, has become a powerhouse in the banking sector, catering to the needs \\\n",
    "of millions across different countries. JP Morgan, a venerable institution with a rich history, has \\\n",
    "established itself as a comprehensive financial powerhouse, providing a diverse range of services \\\n",
    "from investment banking to asset management. Santander, a Spanish multinational bank, has earned a \\\n",
    "reputation for its responsible banking practices and customer-centric approach, serving as a trusted \\\n",
    "financial partner to individuals and businesses alike. Together, Acorns, Citi, HSBC, JP Morgan, and \\\n",
    "Santander have redefined the financial landscape, shaping the way we save, invest, and manage our \\\n",
    "money on a global scale.\\\n",
    "\"\"\"\n",
    "\n",
    "# Scan the prompt using the scanner\n",
    "sanitized_prompt, is_valid, risk_score = scanner.scan(prompt)\n",
    "\n",
    "# Print the results\n",
    "print(\"Sanitized Prompt:\", sanitized_prompt)\n",
    "print(\"Is Valid:\", is_valid)\n",
    "print(\"Risk Score:\", risk_score)\n"
   ]
  },
  {
   "cell_type": "code",
   "execution_count": null,
   "id": "a5bdc9c1-f235-421e-a1c4-6c8d75b84e2e",
   "metadata": {},
   "outputs": [],
   "source": []
  }
 ],
 "metadata": {
  "kernelspec": {
   "display_name": "gdrails-ai",
   "language": "python",
   "name": "gdrails-ai"
  },
  "language_info": {
   "codemirror_mode": {
    "name": "ipython",
    "version": 3
   },
   "file_extension": ".py",
   "mimetype": "text/x-python",
   "name": "python",
   "nbconvert_exporter": "python",
   "pygments_lexer": "ipython3",
   "version": "3.9.19"
  }
 },
 "nbformat": 4,
 "nbformat_minor": 5
}
